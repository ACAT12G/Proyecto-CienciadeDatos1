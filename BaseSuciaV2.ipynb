{
 "cells": [
  {
   "cell_type": "markdown",
   "id": "f4aa31ac",
   "metadata": {},
   "source": [
    "_Nombre completo:_ **José Gael Leyva Alvarado.**  \n",
    "\n",
    "_Materia:_ **Introducción a Ciencia de Datos.**  \n",
    "\n",
    "_Nombre del profesor:_ **Jaime Alejandro Romero Sierra.**  \n",
    "\n",
    "_Fecha de entrega:_ **20-10-2025**  \n",
    "\n",
    "_Repositorio de GitHub:_ **https://github.com/ACAT12G/Proyecto-CienciadeDatos1?tab=readme-ov-file#proyecto-cienciadedatos1**  \n"
   ]
  },
  {
   "cell_type": "markdown",
   "id": "e24f4c0c",
   "metadata": {},
   "source": [
    "# **Contexto de la base de datos:**  \n",
    "\n",
    "Esta base de datos proviene de la plataforma de Kaggle, y es una simulación que representa diferentes interacciones que usuarios hipoteticos hayan tenido con un \"_chat bot_\", con diferentes resultados, a manera de obtener varias posibles situaciones listas para analisis.  \n",
    "\n",
    "Un \"_chat bot_\", es en español, un bot de chat, una inteligencia artificial especializada en hablar con los usuarios, da respuestas dependiendo en lo que el usuario quiera, y tiene el objetivo principal de asistir y/o automatizar ciertos tipos de trabajos de escritura.  \n",
    "\n",
    "En este caso especifico usa como usuarios a estudiantes, y por ende, los temas son desde estudio, hasta resumenes.  \n",
    "\n",
    "Los datos que se tienen de esta base de datos son:  \n",
    "\n",
    "* ID de la sesión: El identificador de cada sesión que cuenta los estudiantes que tuvieron una sesión con el \"_chat bot_\".  \n",
    "\n",
    "* Nivel del estudiante: Preparatoria, Universidad y Graduado, determina el nivel del estudiante al momento de usar el \"_chat bot_\".  \n",
    "\n",
    "* Disciplina: Todas las materias en la que la conversación se formo: ingenieria, biologia, ciencias de la computación, matematicas, historia, negocios y psicologia.  \n",
    "\n",
    "* Fecha de la sesión: La fecha en la que la conversación se llevo acabo.  \n",
    "\n",
    "* Mensajes totales: El total de mensajes que tuvo el usuario y la Inteligencia Artificial; la extensión de la conversación.  \n",
    "\n",
    "* Tipo de Tarea: Escritura, estudiar, codificar, asistencia con la tarea, lluvia de ideas e investigación; todas las actividades que los estudiantes llevaron acabo con el \"_chat bot_\".  \n",
    "\n",
    "* Nivel de Asistencia de la Inteligencia Artificial: En un rango de 1-5, determina si la IA fue de ayuda y asisistio de manera idonea.  \n",
    "\n",
    "* Resultado Final: Nos dice si la tarea fue realizada como se debe, si fue aplazada, si el estudiante termino con dudas/confundid@, o si el estudiante se rindio.  \n",
    "\n",
    "* ¿Se uso de nuevo?: Determina si el estudiante volvio a usar el \"_chat bot_\", o no.  \n",
    "\n",
    "* Indice de Satisfaccióm: Calificación final que el estudiante otorgo a su experiencia con el \"_chat bot_\".\n",
    "\n"
   ]
  },
  {
   "cell_type": "markdown",
   "id": "8796a1b5",
   "metadata": {},
   "source": [
    "# **Limpieza de base de datos:**"
   ]
  },
  {
   "cell_type": "markdown",
   "id": "a5db4046",
   "metadata": {},
   "source": [
    "**Exploracion:**\n",
    "\n",
    "La exploración se basa en ver que problemas tenemos, que buscamos solucionar y en general, el parnorama general de a que nos enfrentamos."
   ]
  },
  {
   "cell_type": "code",
   "execution_count": 1,
   "id": "e61e3958",
   "metadata": {},
   "outputs": [
    {
     "data": {
      "text/plain": [
       "SessionID             540\n",
       "StudentLevel          540\n",
       "Discipline            540\n",
       "SessionDate           540\n",
       "SessionLengthMin      540\n",
       "TotalPrompts          540\n",
       "TaskType              540\n",
       "AI_AssistanceLevel    540\n",
       "FinalOutcome          540\n",
       "UsedAgain             540\n",
       "SatisfactionRating    540\n",
       "dtype: int64"
      ]
     },
     "execution_count": 1,
     "metadata": {},
     "output_type": "execute_result"
    }
   ],
   "source": [
    "import pandas as pd\n",
    "\n",
    "df = pd.read_csv(\"df_sucio.csv\")\n",
    "\n",
    "df.isnull().sum()"
   ]
  },
  {
   "cell_type": "markdown",
   "id": "e5cc0845",
   "metadata": {},
   "source": [
    "Nos muestra todos los valores NaN, o nulos que tiene cada fila."
   ]
  },
  {
   "cell_type": "code",
   "execution_count": 3,
   "id": "9583ef1f",
   "metadata": {},
   "outputs": [
    {
     "data": {
      "text/plain": [
       "array(['SESSION00001', 'SESSION00002', nan, ..., 'SESSION00102',\n",
       "       'SESSION08149', 'SESSION02496'], shape=(9366,), dtype=object)"
      ]
     },
     "execution_count": 3,
     "metadata": {},
     "output_type": "execute_result"
    }
   ],
   "source": [
    "df[\"SessionID\"].unique()"
   ]
  },
  {
   "cell_type": "markdown",
   "id": "2859231a",
   "metadata": {},
   "source": [
    "Nuestra base de datos en estado inicial, se pueden ver los NaN desde aqui."
   ]
  },
  {
   "cell_type": "code",
   "execution_count": 2,
   "id": "71acc338",
   "metadata": {},
   "outputs": [
    {
     "data": {
      "text/html": [
       "<div>\n",
       "<style scoped>\n",
       "    .dataframe tbody tr th:only-of-type {\n",
       "        vertical-align: middle;\n",
       "    }\n",
       "\n",
       "    .dataframe tbody tr th {\n",
       "        vertical-align: top;\n",
       "    }\n",
       "\n",
       "    .dataframe thead th {\n",
       "        text-align: right;\n",
       "    }\n",
       "</style>\n",
       "<table border=\"1\" class=\"dataframe\">\n",
       "  <thead>\n",
       "    <tr style=\"text-align: right;\">\n",
       "      <th></th>\n",
       "      <th>SessionID</th>\n",
       "      <th>StudentLevel</th>\n",
       "      <th>Discipline</th>\n",
       "      <th>SessionDate</th>\n",
       "      <th>SessionLengthMin</th>\n",
       "      <th>TotalPrompts</th>\n",
       "      <th>TaskType</th>\n",
       "      <th>AI_AssistanceLevel</th>\n",
       "      <th>FinalOutcome</th>\n",
       "      <th>UsedAgain</th>\n",
       "      <th>SatisfactionRating</th>\n",
       "    </tr>\n",
       "  </thead>\n",
       "  <tbody>\n",
       "    <tr>\n",
       "      <th>0</th>\n",
       "      <td>SESSION00001</td>\n",
       "      <td>Undergraduate</td>\n",
       "      <td>Computer Science</td>\n",
       "      <td>2024-11-03</td>\n",
       "      <td>31.20</td>\n",
       "      <td>11</td>\n",
       "      <td>Studying</td>\n",
       "      <td>2.0</td>\n",
       "      <td>Assignment Completed</td>\n",
       "      <td>True</td>\n",
       "      <td>1.0</td>\n",
       "    </tr>\n",
       "    <tr>\n",
       "      <th>1</th>\n",
       "      <td>SESSION00002</td>\n",
       "      <td>Undergraduate</td>\n",
       "      <td>NaN</td>\n",
       "      <td>2024-08-25</td>\n",
       "      <td>13.09</td>\n",
       "      <td>6</td>\n",
       "      <td>Studying</td>\n",
       "      <td>3.0</td>\n",
       "      <td>Assignment Completed</td>\n",
       "      <td>True</td>\n",
       "      <td>2.0</td>\n",
       "    </tr>\n",
       "    <tr>\n",
       "      <th>2</th>\n",
       "      <td>NaN</td>\n",
       "      <td>Undergraduate</td>\n",
       "      <td>Business</td>\n",
       "      <td>2025-01-12</td>\n",
       "      <td>19.22</td>\n",
       "      <td>5</td>\n",
       "      <td>Coding</td>\n",
       "      <td>3.0</td>\n",
       "      <td>Assignment Completed</td>\n",
       "      <td>True</td>\n",
       "      <td>3.3</td>\n",
       "    </tr>\n",
       "    <tr>\n",
       "      <th>3</th>\n",
       "      <td>SESSION00004</td>\n",
       "      <td>Undergraduate</td>\n",
       "      <td>Computer Science</td>\n",
       "      <td>2025-05-06</td>\n",
       "      <td>3.70</td>\n",
       "      <td>1</td>\n",
       "      <td>Coding</td>\n",
       "      <td>3.0</td>\n",
       "      <td>NaN</td>\n",
       "      <td>True</td>\n",
       "      <td>3.5</td>\n",
       "    </tr>\n",
       "    <tr>\n",
       "      <th>4</th>\n",
       "      <td>SESSION00005</td>\n",
       "      <td>Undergraduate</td>\n",
       "      <td>Psychology</td>\n",
       "      <td>2025-03-18</td>\n",
       "      <td>28.12</td>\n",
       "      <td>9</td>\n",
       "      <td>Writing</td>\n",
       "      <td>3.0</td>\n",
       "      <td>Assignment Completed</td>\n",
       "      <td>True</td>\n",
       "      <td>2.9</td>\n",
       "    </tr>\n",
       "    <tr>\n",
       "      <th>...</th>\n",
       "      <td>...</td>\n",
       "      <td>...</td>\n",
       "      <td>...</td>\n",
       "      <td>...</td>\n",
       "      <td>...</td>\n",
       "      <td>...</td>\n",
       "      <td>...</td>\n",
       "      <td>...</td>\n",
       "      <td>...</td>\n",
       "      <td>...</td>\n",
       "      <td>...</td>\n",
       "    </tr>\n",
       "    <tr>\n",
       "      <th>10803</th>\n",
       "      <td>SESSION03028</td>\n",
       "      <td>Graduate</td>\n",
       "      <td>Math</td>\n",
       "      <td>2025-03-04</td>\n",
       "      <td>20.52</td>\n",
       "      <td>NaN</td>\n",
       "      <td>Coding</td>\n",
       "      <td>4.0</td>\n",
       "      <td>Assignment Completed</td>\n",
       "      <td>NaN</td>\n",
       "      <td>4.9</td>\n",
       "    </tr>\n",
       "    <tr>\n",
       "      <th>10804</th>\n",
       "      <td>SESSION01621</td>\n",
       "      <td>High School</td>\n",
       "      <td>Computer Science</td>\n",
       "      <td>2024-12-12</td>\n",
       "      <td>40.27</td>\n",
       "      <td>9</td>\n",
       "      <td>Research</td>\n",
       "      <td>4.0</td>\n",
       "      <td>Gave Up</td>\n",
       "      <td>False</td>\n",
       "      <td>4.9</td>\n",
       "    </tr>\n",
       "    <tr>\n",
       "      <th>10805</th>\n",
       "      <td>SESSION07276</td>\n",
       "      <td>High School</td>\n",
       "      <td>History</td>\n",
       "      <td>2025-05-02</td>\n",
       "      <td>41.14</td>\n",
       "      <td>9</td>\n",
       "      <td>Writing</td>\n",
       "      <td>4.0</td>\n",
       "      <td>NaN</td>\n",
       "      <td>False</td>\n",
       "      <td>3.8</td>\n",
       "    </tr>\n",
       "    <tr>\n",
       "      <th>10806</th>\n",
       "      <td>SESSION06220</td>\n",
       "      <td>Graduate</td>\n",
       "      <td>Business</td>\n",
       "      <td>2024-11-15</td>\n",
       "      <td>NaN</td>\n",
       "      <td>12</td>\n",
       "      <td>Research</td>\n",
       "      <td>3.0</td>\n",
       "      <td>Assignment Completed</td>\n",
       "      <td>True</td>\n",
       "      <td>1.0</td>\n",
       "    </tr>\n",
       "    <tr>\n",
       "      <th>10807</th>\n",
       "      <td>SESSION01851</td>\n",
       "      <td>Undergraduate</td>\n",
       "      <td>Biology</td>\n",
       "      <td>2025-01-29</td>\n",
       "      <td>28.86</td>\n",
       "      <td>NaN</td>\n",
       "      <td>Coding</td>\n",
       "      <td>5.0</td>\n",
       "      <td>Confused</td>\n",
       "      <td>True</td>\n",
       "      <td>4.9</td>\n",
       "    </tr>\n",
       "  </tbody>\n",
       "</table>\n",
       "<p>10808 rows × 11 columns</p>\n",
       "</div>"
      ],
      "text/plain": [
       "          SessionID   StudentLevel        Discipline SessionDate  \\\n",
       "0      SESSION00001  Undergraduate  Computer Science  2024-11-03   \n",
       "1      SESSION00002  Undergraduate               NaN  2024-08-25   \n",
       "2               NaN  Undergraduate          Business  2025-01-12   \n",
       "3      SESSION00004  Undergraduate  Computer Science  2025-05-06   \n",
       "4      SESSION00005  Undergraduate        Psychology  2025-03-18   \n",
       "...             ...            ...               ...         ...   \n",
       "10803  SESSION03028       Graduate              Math  2025-03-04   \n",
       "10804  SESSION01621    High School  Computer Science  2024-12-12   \n",
       "10805  SESSION07276    High School           History  2025-05-02   \n",
       "10806  SESSION06220       Graduate          Business  2024-11-15   \n",
       "10807  SESSION01851  Undergraduate           Biology  2025-01-29   \n",
       "\n",
       "       SessionLengthMin TotalPrompts  TaskType  AI_AssistanceLevel  \\\n",
       "0                 31.20           11  Studying                 2.0   \n",
       "1                 13.09            6  Studying                 3.0   \n",
       "2                 19.22            5    Coding                 3.0   \n",
       "3                  3.70            1    Coding                 3.0   \n",
       "4                 28.12            9   Writing                 3.0   \n",
       "...                 ...          ...       ...                 ...   \n",
       "10803             20.52          NaN    Coding                 4.0   \n",
       "10804             40.27            9  Research                 4.0   \n",
       "10805             41.14            9   Writing                 4.0   \n",
       "10806               NaN           12  Research                 3.0   \n",
       "10807             28.86          NaN    Coding                 5.0   \n",
       "\n",
       "               FinalOutcome UsedAgain  SatisfactionRating  \n",
       "0      Assignment Completed      True                 1.0  \n",
       "1      Assignment Completed      True                 2.0  \n",
       "2      Assignment Completed      True                 3.3  \n",
       "3                       NaN      True                 3.5  \n",
       "4      Assignment Completed      True                 2.9  \n",
       "...                     ...       ...                 ...  \n",
       "10803  Assignment Completed       NaN                 4.9  \n",
       "10804               Gave Up     False                 4.9  \n",
       "10805                   NaN     False                 3.8  \n",
       "10806  Assignment Completed      True                 1.0  \n",
       "10807              Confused      True                 4.9  \n",
       "\n",
       "[10808 rows x 11 columns]"
      ]
     },
     "execution_count": 2,
     "metadata": {},
     "output_type": "execute_result"
    }
   ],
   "source": [
    "df"
   ]
  },
  {
   "cell_type": "code",
   "execution_count": 4,
   "id": "5785f9ad",
   "metadata": {},
   "outputs": [
    {
     "data": {
      "text/plain": [
       "(10808, 11)"
      ]
     },
     "execution_count": 4,
     "metadata": {},
     "output_type": "execute_result"
    }
   ],
   "source": [
    "df.shape"
   ]
  },
  {
   "cell_type": "code",
   "execution_count": 5,
   "id": "db429ea4",
   "metadata": {},
   "outputs": [
    {
     "data": {
      "text/html": [
       "<div>\n",
       "<style scoped>\n",
       "    .dataframe tbody tr th:only-of-type {\n",
       "        vertical-align: middle;\n",
       "    }\n",
       "\n",
       "    .dataframe tbody tr th {\n",
       "        vertical-align: top;\n",
       "    }\n",
       "\n",
       "    .dataframe thead th {\n",
       "        text-align: right;\n",
       "    }\n",
       "</style>\n",
       "<table border=\"1\" class=\"dataframe\">\n",
       "  <thead>\n",
       "    <tr style=\"text-align: right;\">\n",
       "      <th></th>\n",
       "      <th>SessionLengthMin</th>\n",
       "      <th>AI_AssistanceLevel</th>\n",
       "      <th>SatisfactionRating</th>\n",
       "    </tr>\n",
       "  </thead>\n",
       "  <tbody>\n",
       "    <tr>\n",
       "      <th>count</th>\n",
       "      <td>10268.000000</td>\n",
       "      <td>10268.000000</td>\n",
       "      <td>10268.000000</td>\n",
       "    </tr>\n",
       "    <tr>\n",
       "      <th>mean</th>\n",
       "      <td>19.792964</td>\n",
       "      <td>3.484223</td>\n",
       "      <td>3.421241</td>\n",
       "    </tr>\n",
       "    <tr>\n",
       "      <th>std</th>\n",
       "      <td>13.848326</td>\n",
       "      <td>0.987229</td>\n",
       "      <td>1.143129</td>\n",
       "    </tr>\n",
       "    <tr>\n",
       "      <th>min</th>\n",
       "      <td>0.030000</td>\n",
       "      <td>1.000000</td>\n",
       "      <td>1.000000</td>\n",
       "    </tr>\n",
       "    <tr>\n",
       "      <th>25%</th>\n",
       "      <td>9.620000</td>\n",
       "      <td>3.000000</td>\n",
       "      <td>2.600000</td>\n",
       "    </tr>\n",
       "    <tr>\n",
       "      <th>50%</th>\n",
       "      <td>16.625000</td>\n",
       "      <td>4.000000</td>\n",
       "      <td>3.500000</td>\n",
       "    </tr>\n",
       "    <tr>\n",
       "      <th>75%</th>\n",
       "      <td>26.630000</td>\n",
       "      <td>4.000000</td>\n",
       "      <td>4.400000</td>\n",
       "    </tr>\n",
       "    <tr>\n",
       "      <th>max</th>\n",
       "      <td>110.810000</td>\n",
       "      <td>5.000000</td>\n",
       "      <td>5.000000</td>\n",
       "    </tr>\n",
       "  </tbody>\n",
       "</table>\n",
       "</div>"
      ],
      "text/plain": [
       "       SessionLengthMin  AI_AssistanceLevel  SatisfactionRating\n",
       "count      10268.000000        10268.000000        10268.000000\n",
       "mean          19.792964            3.484223            3.421241\n",
       "std           13.848326            0.987229            1.143129\n",
       "min            0.030000            1.000000            1.000000\n",
       "25%            9.620000            3.000000            2.600000\n",
       "50%           16.625000            4.000000            3.500000\n",
       "75%           26.630000            4.000000            4.400000\n",
       "max          110.810000            5.000000            5.000000"
      ]
     },
     "execution_count": 5,
     "metadata": {},
     "output_type": "execute_result"
    }
   ],
   "source": [
    "df.describe()"
   ]
  },
  {
   "cell_type": "code",
   "execution_count": 6,
   "id": "800e5c6a",
   "metadata": {},
   "outputs": [
    {
     "name": "stdout",
     "output_type": "stream",
     "text": [
      "<class 'pandas.core.frame.DataFrame'>\n",
      "RangeIndex: 10808 entries, 0 to 10807\n",
      "Data columns (total 11 columns):\n",
      " #   Column              Non-Null Count  Dtype  \n",
      "---  ------              --------------  -----  \n",
      " 0   SessionID           10268 non-null  object \n",
      " 1   StudentLevel        10268 non-null  object \n",
      " 2   Discipline          10268 non-null  object \n",
      " 3   SessionDate         10268 non-null  object \n",
      " 4   SessionLengthMin    10268 non-null  float64\n",
      " 5   TotalPrompts        10268 non-null  object \n",
      " 6   TaskType            10268 non-null  object \n",
      " 7   AI_AssistanceLevel  10268 non-null  float64\n",
      " 8   FinalOutcome        10268 non-null  object \n",
      " 9   UsedAgain           10268 non-null  object \n",
      " 10  SatisfactionRating  10268 non-null  float64\n",
      "dtypes: float64(3), object(8)\n",
      "memory usage: 928.9+ KB\n"
     ]
    }
   ],
   "source": [
    "df.info()"
   ]
  },
  {
   "cell_type": "markdown",
   "id": "e05f3340",
   "metadata": {},
   "source": [
    "Nos muestra los tipos de datos de cada columna."
   ]
  },
  {
   "cell_type": "code",
   "execution_count": 7,
   "id": "488e07eb",
   "metadata": {},
   "outputs": [
    {
     "data": {
      "text/plain": [
       "Index(['SessionID', 'StudentLevel', 'Discipline', 'SessionDate',\n",
       "       'SessionLengthMin', 'TotalPrompts', 'TaskType', 'AI_AssistanceLevel',\n",
       "       'FinalOutcome', 'UsedAgain', 'SatisfactionRating'],\n",
       "      dtype='object')"
      ]
     },
     "execution_count": 7,
     "metadata": {},
     "output_type": "execute_result"
    }
   ],
   "source": [
    "df.columns"
   ]
  },
  {
   "cell_type": "markdown",
   "id": "fc902b28",
   "metadata": {},
   "source": [
    "Y todas las columnas en lista."
   ]
  },
  {
   "cell_type": "code",
   "execution_count": 8,
   "id": "7ebb9cc4",
   "metadata": {},
   "outputs": [
    {
     "data": {
      "text/html": [
       "<div>\n",
       "<style scoped>\n",
       "    .dataframe tbody tr th:only-of-type {\n",
       "        vertical-align: middle;\n",
       "    }\n",
       "\n",
       "    .dataframe tbody tr th {\n",
       "        vertical-align: top;\n",
       "    }\n",
       "\n",
       "    .dataframe thead th {\n",
       "        text-align: right;\n",
       "    }\n",
       "</style>\n",
       "<table border=\"1\" class=\"dataframe\">\n",
       "  <thead>\n",
       "    <tr style=\"text-align: right;\">\n",
       "      <th></th>\n",
       "      <th>SessionID</th>\n",
       "      <th>StudentLevel</th>\n",
       "      <th>Discipline</th>\n",
       "      <th>SessionDate</th>\n",
       "      <th>SessionLengthMin</th>\n",
       "      <th>TotalPrompts</th>\n",
       "      <th>TaskType</th>\n",
       "      <th>AI_AssistanceLevel</th>\n",
       "      <th>FinalOutcome</th>\n",
       "      <th>UsedAgain</th>\n",
       "      <th>SatisfactionRating</th>\n",
       "    </tr>\n",
       "  </thead>\n",
       "  <tbody>\n",
       "    <tr>\n",
       "      <th>0</th>\n",
       "      <td>False</td>\n",
       "      <td>False</td>\n",
       "      <td>False</td>\n",
       "      <td>False</td>\n",
       "      <td>False</td>\n",
       "      <td>False</td>\n",
       "      <td>False</td>\n",
       "      <td>False</td>\n",
       "      <td>False</td>\n",
       "      <td>False</td>\n",
       "      <td>False</td>\n",
       "    </tr>\n",
       "    <tr>\n",
       "      <th>1</th>\n",
       "      <td>False</td>\n",
       "      <td>False</td>\n",
       "      <td>True</td>\n",
       "      <td>False</td>\n",
       "      <td>False</td>\n",
       "      <td>False</td>\n",
       "      <td>False</td>\n",
       "      <td>False</td>\n",
       "      <td>False</td>\n",
       "      <td>False</td>\n",
       "      <td>False</td>\n",
       "    </tr>\n",
       "    <tr>\n",
       "      <th>2</th>\n",
       "      <td>True</td>\n",
       "      <td>False</td>\n",
       "      <td>False</td>\n",
       "      <td>False</td>\n",
       "      <td>False</td>\n",
       "      <td>False</td>\n",
       "      <td>False</td>\n",
       "      <td>False</td>\n",
       "      <td>False</td>\n",
       "      <td>False</td>\n",
       "      <td>False</td>\n",
       "    </tr>\n",
       "    <tr>\n",
       "      <th>3</th>\n",
       "      <td>False</td>\n",
       "      <td>False</td>\n",
       "      <td>False</td>\n",
       "      <td>False</td>\n",
       "      <td>False</td>\n",
       "      <td>False</td>\n",
       "      <td>False</td>\n",
       "      <td>False</td>\n",
       "      <td>True</td>\n",
       "      <td>False</td>\n",
       "      <td>False</td>\n",
       "    </tr>\n",
       "    <tr>\n",
       "      <th>4</th>\n",
       "      <td>False</td>\n",
       "      <td>False</td>\n",
       "      <td>False</td>\n",
       "      <td>False</td>\n",
       "      <td>False</td>\n",
       "      <td>False</td>\n",
       "      <td>False</td>\n",
       "      <td>False</td>\n",
       "      <td>False</td>\n",
       "      <td>False</td>\n",
       "      <td>False</td>\n",
       "    </tr>\n",
       "    <tr>\n",
       "      <th>...</th>\n",
       "      <td>...</td>\n",
       "      <td>...</td>\n",
       "      <td>...</td>\n",
       "      <td>...</td>\n",
       "      <td>...</td>\n",
       "      <td>...</td>\n",
       "      <td>...</td>\n",
       "      <td>...</td>\n",
       "      <td>...</td>\n",
       "      <td>...</td>\n",
       "      <td>...</td>\n",
       "    </tr>\n",
       "    <tr>\n",
       "      <th>10803</th>\n",
       "      <td>False</td>\n",
       "      <td>False</td>\n",
       "      <td>False</td>\n",
       "      <td>False</td>\n",
       "      <td>False</td>\n",
       "      <td>True</td>\n",
       "      <td>False</td>\n",
       "      <td>False</td>\n",
       "      <td>False</td>\n",
       "      <td>True</td>\n",
       "      <td>False</td>\n",
       "    </tr>\n",
       "    <tr>\n",
       "      <th>10804</th>\n",
       "      <td>False</td>\n",
       "      <td>False</td>\n",
       "      <td>False</td>\n",
       "      <td>False</td>\n",
       "      <td>False</td>\n",
       "      <td>False</td>\n",
       "      <td>False</td>\n",
       "      <td>False</td>\n",
       "      <td>False</td>\n",
       "      <td>False</td>\n",
       "      <td>False</td>\n",
       "    </tr>\n",
       "    <tr>\n",
       "      <th>10805</th>\n",
       "      <td>False</td>\n",
       "      <td>False</td>\n",
       "      <td>False</td>\n",
       "      <td>False</td>\n",
       "      <td>False</td>\n",
       "      <td>False</td>\n",
       "      <td>False</td>\n",
       "      <td>False</td>\n",
       "      <td>True</td>\n",
       "      <td>False</td>\n",
       "      <td>False</td>\n",
       "    </tr>\n",
       "    <tr>\n",
       "      <th>10806</th>\n",
       "      <td>False</td>\n",
       "      <td>False</td>\n",
       "      <td>False</td>\n",
       "      <td>False</td>\n",
       "      <td>True</td>\n",
       "      <td>False</td>\n",
       "      <td>False</td>\n",
       "      <td>False</td>\n",
       "      <td>False</td>\n",
       "      <td>False</td>\n",
       "      <td>False</td>\n",
       "    </tr>\n",
       "    <tr>\n",
       "      <th>10807</th>\n",
       "      <td>False</td>\n",
       "      <td>False</td>\n",
       "      <td>False</td>\n",
       "      <td>False</td>\n",
       "      <td>False</td>\n",
       "      <td>True</td>\n",
       "      <td>False</td>\n",
       "      <td>False</td>\n",
       "      <td>False</td>\n",
       "      <td>False</td>\n",
       "      <td>False</td>\n",
       "    </tr>\n",
       "  </tbody>\n",
       "</table>\n",
       "<p>10808 rows × 11 columns</p>\n",
       "</div>"
      ],
      "text/plain": [
       "       SessionID  StudentLevel  Discipline  SessionDate  SessionLengthMin  \\\n",
       "0          False         False       False        False             False   \n",
       "1          False         False        True        False             False   \n",
       "2           True         False       False        False             False   \n",
       "3          False         False       False        False             False   \n",
       "4          False         False       False        False             False   \n",
       "...          ...           ...         ...          ...               ...   \n",
       "10803      False         False       False        False             False   \n",
       "10804      False         False       False        False             False   \n",
       "10805      False         False       False        False             False   \n",
       "10806      False         False       False        False              True   \n",
       "10807      False         False       False        False             False   \n",
       "\n",
       "       TotalPrompts  TaskType  AI_AssistanceLevel  FinalOutcome  UsedAgain  \\\n",
       "0             False     False               False         False      False   \n",
       "1             False     False               False         False      False   \n",
       "2             False     False               False         False      False   \n",
       "3             False     False               False          True      False   \n",
       "4             False     False               False         False      False   \n",
       "...             ...       ...                 ...           ...        ...   \n",
       "10803          True     False               False         False       True   \n",
       "10804         False     False               False         False      False   \n",
       "10805         False     False               False          True      False   \n",
       "10806         False     False               False         False      False   \n",
       "10807          True     False               False         False      False   \n",
       "\n",
       "       SatisfactionRating  \n",
       "0                   False  \n",
       "1                   False  \n",
       "2                   False  \n",
       "3                   False  \n",
       "4                   False  \n",
       "...                   ...  \n",
       "10803               False  \n",
       "10804               False  \n",
       "10805               False  \n",
       "10806               False  \n",
       "10807               False  \n",
       "\n",
       "[10808 rows x 11 columns]"
      ]
     },
     "execution_count": 8,
     "metadata": {},
     "output_type": "execute_result"
    }
   ],
   "source": [
    "df.isnull()"
   ]
  },
  {
   "cell_type": "code",
   "execution_count": 9,
   "id": "22b9e6a8",
   "metadata": {},
   "outputs": [
    {
     "data": {
      "text/plain": [
       "(10808, 11)"
      ]
     },
     "execution_count": 9,
     "metadata": {},
     "output_type": "execute_result"
    }
   ],
   "source": [
    "df.shape"
   ]
  },
  {
   "cell_type": "code",
   "execution_count": 10,
   "id": "9011001b",
   "metadata": {},
   "outputs": [],
   "source": [
    "df2=df"
   ]
  },
  {
   "cell_type": "code",
   "execution_count": 11,
   "id": "81a844a0",
   "metadata": {},
   "outputs": [
    {
     "name": "stdout",
     "output_type": "stream",
     "text": [
      "SessionID     StudentLevel \n",
      "bbb           Undergraduate    124\n",
      "              High School       42\n",
      "              Graduate          35\n",
      "SESSION00028  High School        3\n",
      "SESSION03232  Undergraduate      3\n",
      "                              ... \n",
      "SESSION00033  High School        1\n",
      "SESSION00031  High School        1\n",
      "SESSION00030  Undergraduate      1\n",
      "SESSION00029  Undergraduate      1\n",
      "SESSION00027  Undergraduate      1\n",
      "Name: count, Length: 8942, dtype: int64\n"
     ]
    }
   ],
   "source": [
    "print(df2[['SessionID', 'StudentLevel']].value_counts())"
   ]
  },
  {
   "cell_type": "code",
   "execution_count": 12,
   "id": "2bf634c4",
   "metadata": {},
   "outputs": [
    {
     "data": {
      "text/plain": [
       "np.int64(199)"
      ]
     },
     "execution_count": 12,
     "metadata": {},
     "output_type": "execute_result"
    }
   ],
   "source": [
    "df2.duplicated().sum()"
   ]
  },
  {
   "cell_type": "code",
   "execution_count": 13,
   "id": "fe422aef",
   "metadata": {},
   "outputs": [
    {
     "data": {
      "text/plain": [
       "(10808, 11)"
      ]
     },
     "execution_count": 13,
     "metadata": {},
     "output_type": "execute_result"
    }
   ],
   "source": [
    "df2.shape"
   ]
  },
  {
   "cell_type": "markdown",
   "id": "1ba7ab3c",
   "metadata": {},
   "source": [
    "# **Traducción:**\n",
    "\n",
    "El primer paso es traducir todo a español, para evitar futuros conflictos, mas acerca de que tipo de problemas en el final de este documento."
   ]
  },
  {
   "cell_type": "code",
   "execution_count": 14,
   "id": "a00ded25",
   "metadata": {},
   "outputs": [],
   "source": [
    "\n",
    "dic_renombrar = {\n",
    "    'SessionID': 'ID_Sesion',\n",
    "    'StudentLevel': 'NivelEstudiante',\n",
    "    'Discipline': 'Disciplina',\n",
    "    'SessionDate': 'FechaSesion',\n",
    "    'SessionLengthMin': 'DuracionMinutos',\n",
    "    'TotalPrompts': 'TotalIndicaciones',\n",
    "    'TaskType': 'TipoTarea',\n",
    "    'AI_AssistanceLevel': 'NivelAsistenciaIA',\n",
    "    'FinalOutcome': 'ResultadoFinal',\n",
    "    'UsedAgain': 'UsadoNuevamente',\n",
    "    'SatisfactionRating': 'CalificacionSatisfaccion'\n",
    "}\n",
    "\n",
    "traduccion_nivel = {\n",
    "    'Undergraduate': 'Universitario',\n",
    "    'High School': 'Preparatoria',\n",
    "    'Graduate': 'Graduado'\n",
    "}\n",
    "\n",
    "traduccion_disciplina = {\n",
    "    'Engineering': 'Ingeniería',\n",
    "    'Computer Science': 'Ciencias de la Computación',\n",
    "    'History': 'Historia',\n",
    "    'Biology': 'Biología',\n",
    "    'Math': 'Matemáticas',\n",
    "    'Business': 'Negocios',\n",
    "    'Psychology': 'Psicología'\n",
    "}\n",
    "\n",
    "traduccion_tarea = {\n",
    "    'Writing': 'Redacción',\n",
    "    'Studying': 'Estudio',\n",
    "    'Coding': 'Programación',\n",
    "    'Homework Help': 'Ayuda con Tareas',\n",
    "    'Brainstorming': 'Lluvia de Ideas',\n",
    "    'Research': 'Investigación'\n",
    "}\n",
    "\n",
    "traduccion_resultado = {\n",
    "    'Assignment Completed': 'Tarea Completada',\n",
    "    'Idea Drafted': 'Idea Rezagada',\n",
    "    'Confused': 'Confundido'\n",
    "}\n",
    "\n",
    "df2.rename(columns=dic_renombrar, inplace=True)\n",
    "\n",
    "traducciones_completas = {\n",
    "    'NivelEstudiante': traduccion_nivel,\n",
    "    'Disciplina': traduccion_disciplina,\n",
    "    'TipoTarea': traduccion_tarea,\n",
    "    'ResultadoFinal': traduccion_resultado\n",
    "}\n",
    "\n",
    "df2.replace(traducciones_completas, inplace=True)\n"
   ]
  },
  {
   "cell_type": "markdown",
   "id": "c8f97a03",
   "metadata": {},
   "source": [
    "# **Depuracion de NaN:**"
   ]
  },
  {
   "cell_type": "markdown",
   "id": "e7849066",
   "metadata": {},
   "source": [
    "Utilizando fillna, se usa un codigo para distruiir todos los NaN rellnados con valores aleatorios dentro del rango de datos que tenemos, a manera de no favorecer ningun tipo de dato."
   ]
  },
  {
   "cell_type": "code",
   "execution_count": 15,
   "id": "5bbf64af",
   "metadata": {},
   "outputs": [
    {
     "data": {
      "text/plain": [
       "array(['SESSION00001', 'SESSION00002', nan, ..., 'SESSION00102',\n",
       "       'SESSION08149', 'SESSION02496'], shape=(9366,), dtype=object)"
      ]
     },
     "execution_count": 15,
     "metadata": {},
     "output_type": "execute_result"
    }
   ],
   "source": [
    "df2[\"ID_Sesion\"].unique()"
   ]
  },
  {
   "cell_type": "code",
   "execution_count": 16,
   "id": "1cc29408",
   "metadata": {},
   "outputs": [
    {
     "data": {
      "text/plain": [
       "ID_Sesion                     0\n",
       "NivelEstudiante             540\n",
       "Disciplina                  540\n",
       "FechaSesion                 540\n",
       "DuracionMinutos             540\n",
       "TotalIndicaciones           540\n",
       "TipoTarea                   540\n",
       "NivelAsistenciaIA           540\n",
       "ResultadoFinal              540\n",
       "UsadoNuevamente             540\n",
       "CalificacionSatisfaccion    540\n",
       "dtype: int64"
      ]
     },
     "execution_count": 16,
     "metadata": {},
     "output_type": "execute_result"
    }
   ],
   "source": [
    "df2['ID_Sesion'] = df2['ID_Sesion'].fillna(\"SESSION00000\")\n",
    "df2.isnull().sum()"
   ]
  },
  {
   "cell_type": "code",
   "execution_count": 17,
   "id": "729a1ec2",
   "metadata": {},
   "outputs": [
    {
     "data": {
      "text/plain": [
       "array(['SESSION00001', 'SESSION00002', 'SESSION00000', ...,\n",
       "       'SESSION00102', 'SESSION08149', 'SESSION02496'],\n",
       "      shape=(9366,), dtype=object)"
      ]
     },
     "execution_count": 17,
     "metadata": {},
     "output_type": "execute_result"
    }
   ],
   "source": [
    "df[\"ID_Sesion\"].unique()"
   ]
  },
  {
   "cell_type": "code",
   "execution_count": 18,
   "id": "8f7cebdd",
   "metadata": {},
   "outputs": [
    {
     "data": {
      "text/plain": [
       "(10808, 11)"
      ]
     },
     "execution_count": 18,
     "metadata": {},
     "output_type": "execute_result"
    }
   ],
   "source": [
    "df2.shape"
   ]
  },
  {
   "cell_type": "code",
   "execution_count": 19,
   "id": "43098657",
   "metadata": {},
   "outputs": [
    {
     "data": {
      "text/plain": [
       "NivelEstudiante\n",
       "Universitario    6130\n",
       "Preparatoria     2089\n",
       "Graduado         2049\n",
       "Name: count, dtype: int64"
      ]
     },
     "execution_count": 19,
     "metadata": {},
     "output_type": "execute_result"
    }
   ],
   "source": [
    "df2[\"NivelEstudiante\"].value_counts()"
   ]
  },
  {
   "cell_type": "code",
   "execution_count": 20,
   "id": "7d815e0d",
   "metadata": {},
   "outputs": [
    {
     "data": {
      "text/plain": [
       "ID_Sesion                     0\n",
       "NivelEstudiante               0\n",
       "Disciplina                  540\n",
       "FechaSesion                 540\n",
       "DuracionMinutos             540\n",
       "TotalIndicaciones           540\n",
       "TipoTarea                   540\n",
       "NivelAsistenciaIA           540\n",
       "ResultadoFinal              540\n",
       "UsadoNuevamente             540\n",
       "CalificacionSatisfaccion    540\n",
       "dtype: int64"
      ]
     },
     "execution_count": 20,
     "metadata": {},
     "output_type": "execute_result"
    }
   ],
   "source": [
    "import numpy as np\n",
    "\n",
    "valores_validos = df['NivelEstudiante'].dropna()\n",
    "\n",
    "indices_nan = df2.loc[df2['NivelEstudiante'].isnull()].index\n",
    "\n",
    "valores_aleatorios = np.random.choice(valores_validos, size=len(indices_nan))\n",
    "\n",
    "df2.loc[indices_nan, 'NivelEstudiante'] = valores_aleatorios\n",
    "\n",
    "df2.isnull().sum()"
   ]
  },
  {
   "cell_type": "code",
   "execution_count": 21,
   "id": "895520a1",
   "metadata": {},
   "outputs": [
    {
     "data": {
      "text/plain": [
       "(10808, 11)"
      ]
     },
     "execution_count": 21,
     "metadata": {},
     "output_type": "execute_result"
    }
   ],
   "source": [
    "df2.shape"
   ]
  },
  {
   "cell_type": "code",
   "execution_count": 22,
   "id": "e7833281",
   "metadata": {},
   "outputs": [
    {
     "data": {
      "text/plain": [
       "NivelEstudiante\n",
       "Universitario    6460\n",
       "Preparatoria     2187\n",
       "Graduado         2161\n",
       "Name: count, dtype: int64"
      ]
     },
     "execution_count": 22,
     "metadata": {},
     "output_type": "execute_result"
    }
   ],
   "source": [
    "df2[\"NivelEstudiante\"].value_counts()"
   ]
  },
  {
   "cell_type": "code",
   "execution_count": 23,
   "id": "55c6d351",
   "metadata": {},
   "outputs": [
    {
     "data": {
      "text/plain": [
       "Disciplina\n",
       "Ingeniería                    1469\n",
       "Biología                      1456\n",
       "Ciencias de la Computación    1447\n",
       "Matemáticas                   1436\n",
       "Historia                      1434\n",
       "Negocios                      1413\n",
       "Psicología                    1410\n",
       "bbb                            203\n",
       "Name: count, dtype: int64"
      ]
     },
     "execution_count": 23,
     "metadata": {},
     "output_type": "execute_result"
    }
   ],
   "source": [
    "df2[\"Disciplina\"].value_counts()"
   ]
  },
  {
   "cell_type": "code",
   "execution_count": 24,
   "id": "803d3512",
   "metadata": {},
   "outputs": [
    {
     "data": {
      "text/plain": [
       "Index(['ID_Sesion', 'NivelEstudiante', 'Disciplina', 'FechaSesion',\n",
       "       'DuracionMinutos', 'TotalIndicaciones', 'TipoTarea',\n",
       "       'NivelAsistenciaIA', 'ResultadoFinal', 'UsadoNuevamente',\n",
       "       'CalificacionSatisfaccion'],\n",
       "      dtype='object')"
      ]
     },
     "execution_count": 24,
     "metadata": {},
     "output_type": "execute_result"
    }
   ],
   "source": [
    "df2.columns"
   ]
  },
  {
   "cell_type": "code",
   "execution_count": 25,
   "id": "8bdc0fec",
   "metadata": {},
   "outputs": [
    {
     "data": {
      "text/plain": [
       "ID_Sesion                     0\n",
       "NivelEstudiante               0\n",
       "Disciplina                    0\n",
       "FechaSesion                 540\n",
       "DuracionMinutos             540\n",
       "TotalIndicaciones           540\n",
       "TipoTarea                   540\n",
       "NivelAsistenciaIA           540\n",
       "ResultadoFinal              540\n",
       "UsadoNuevamente             540\n",
       "CalificacionSatisfaccion    540\n",
       "dtype: int64"
      ]
     },
     "execution_count": 25,
     "metadata": {},
     "output_type": "execute_result"
    }
   ],
   "source": [
    "valores_validos = df['Disciplina'].dropna()\n",
    "\n",
    "\n",
    "indices_nan = df2.loc[df2['Disciplina'].isnull()].index\n",
    "\n",
    "valores_aleatorios = np.random.choice(valores_validos, size=len(indices_nan))\n",
    "\n",
    "df2.loc[indices_nan, 'Disciplina'] = valores_aleatorios\n",
    "\n",
    "df2.isnull().sum()"
   ]
  },
  {
   "cell_type": "code",
   "execution_count": 122,
   "id": "08a8e44d",
   "metadata": {},
   "outputs": [
    {
     "data": {
      "text/plain": [
       "FechaSesion\n",
       "2025-04-03    43\n",
       "2025-06-21    42\n",
       "2025-01-17    42\n",
       "2025-01-19    42\n",
       "2025-02-01    41\n",
       "              ..\n",
       "2025-01-14    16\n",
       "2025-01-04    15\n",
       "2025-03-03    15\n",
       "2024-12-28    15\n",
       "2024-09-24    14\n",
       "Name: count, Length: 366, dtype: int64"
      ]
     },
     "execution_count": 122,
     "metadata": {},
     "output_type": "execute_result"
    }
   ],
   "source": [
    "df2[\"FechaSesion\"].value_counts()"
   ]
  },
  {
   "cell_type": "code",
   "execution_count": 26,
   "id": "2e223e4a",
   "metadata": {},
   "outputs": [],
   "source": [
    "valores_validos = df['FechaSesion'].dropna()\n",
    "\n",
    "indices_nan = df2.loc[df2['FechaSesion'].isnull()].index\n",
    "\n",
    "valores_aleatorios = np.random.choice(valores_validos, size=len(indices_nan))\n",
    "\n",
    "df2.loc[indices_nan, 'FechaSesion'] = valores_aleatorios"
   ]
  },
  {
   "cell_type": "code",
   "execution_count": 27,
   "id": "65ba89fa",
   "metadata": {},
   "outputs": [
    {
     "data": {
      "text/plain": [
       "ID_Sesion                     0\n",
       "NivelEstudiante               0\n",
       "Disciplina                    0\n",
       "FechaSesion                   0\n",
       "DuracionMinutos             540\n",
       "TotalIndicaciones           540\n",
       "TipoTarea                   540\n",
       "NivelAsistenciaIA           540\n",
       "ResultadoFinal              540\n",
       "UsadoNuevamente             540\n",
       "CalificacionSatisfaccion    540\n",
       "dtype: int64"
      ]
     },
     "execution_count": 27,
     "metadata": {},
     "output_type": "execute_result"
    }
   ],
   "source": [
    "df2.isnull().sum()"
   ]
  },
  {
   "cell_type": "code",
   "execution_count": 28,
   "id": "e10ba115",
   "metadata": {},
   "outputs": [
    {
     "data": {
      "text/plain": [
       "DuracionMinutos\n",
       "13.40    13\n",
       "8.12     12\n",
       "10.57    12\n",
       "16.03    12\n",
       "7.61     11\n",
       "         ..\n",
       "49.93     1\n",
       "10.86     1\n",
       "33.78     1\n",
       "18.49     1\n",
       "10.85     1\n",
       "Name: count, Length: 4006, dtype: int64"
      ]
     },
     "execution_count": 28,
     "metadata": {},
     "output_type": "execute_result"
    }
   ],
   "source": [
    "df2[\"DuracionMinutos\"].value_counts()"
   ]
  },
  {
   "cell_type": "code",
   "execution_count": 29,
   "id": "43b02ae4",
   "metadata": {},
   "outputs": [
    {
     "data": {
      "text/plain": [
       "ID_Sesion                     0\n",
       "NivelEstudiante               0\n",
       "Disciplina                    0\n",
       "FechaSesion                   0\n",
       "DuracionMinutos               0\n",
       "TotalIndicaciones           540\n",
       "TipoTarea                   540\n",
       "NivelAsistenciaIA           540\n",
       "ResultadoFinal              540\n",
       "UsadoNuevamente             540\n",
       "CalificacionSatisfaccion    540\n",
       "dtype: int64"
      ]
     },
     "execution_count": 29,
     "metadata": {},
     "output_type": "execute_result"
    }
   ],
   "source": [
    "valores_validos = df['DuracionMinutos'].dropna()\n",
    "\n",
    "indices_nan = df2.loc[df2['DuracionMinutos'].isnull()].index\n",
    "\n",
    "valores_aleatorios = np.random.choice(valores_validos, size=len(indices_nan))\n",
    "\n",
    "df2.loc[indices_nan, 'DuracionMinutos'] = valores_aleatorios\n",
    "\n",
    "df2.isnull().sum()"
   ]
  },
  {
   "cell_type": "code",
   "execution_count": 30,
   "id": "44fdfdbf",
   "metadata": {},
   "outputs": [
    {
     "data": {
      "text/plain": [
       "ID_Sesion                     0\n",
       "NivelEstudiante               0\n",
       "Disciplina                    0\n",
       "FechaSesion                   0\n",
       "DuracionMinutos               0\n",
       "TotalIndicaciones             0\n",
       "TipoTarea                   540\n",
       "NivelAsistenciaIA           540\n",
       "ResultadoFinal              540\n",
       "UsadoNuevamente             540\n",
       "CalificacionSatisfaccion    540\n",
       "dtype: int64"
      ]
     },
     "execution_count": 30,
     "metadata": {},
     "output_type": "execute_result"
    }
   ],
   "source": [
    "valores_validos = df['TotalIndicaciones'].dropna()\n",
    "\n",
    "indices_nan = df2.loc[df2['TotalIndicaciones'].isnull()].index\n",
    "\n",
    "valores_aleatorios = np.random.choice(valores_validos, size=len(indices_nan))\n",
    "\n",
    "df2.loc[indices_nan, 'TotalIndicaciones'] = valores_aleatorios\n",
    "\n",
    "df2.isnull().sum()"
   ]
  },
  {
   "cell_type": "code",
   "execution_count": 31,
   "id": "0b1b51e6",
   "metadata": {},
   "outputs": [
    {
     "data": {
      "text/plain": [
       "ID_Sesion                     0\n",
       "NivelEstudiante               0\n",
       "Disciplina                    0\n",
       "FechaSesion                   0\n",
       "DuracionMinutos               0\n",
       "TotalIndicaciones             0\n",
       "TipoTarea                     0\n",
       "NivelAsistenciaIA           540\n",
       "ResultadoFinal              540\n",
       "UsadoNuevamente             540\n",
       "CalificacionSatisfaccion    540\n",
       "dtype: int64"
      ]
     },
     "execution_count": 31,
     "metadata": {},
     "output_type": "execute_result"
    }
   ],
   "source": [
    "valores_validos = df['TipoTarea'].dropna()\n",
    "\n",
    "indices_nan = df2.loc[df2['TipoTarea'].isnull()].index\n",
    "\n",
    "valores_aleatorios = np.random.choice(valores_validos, size=len(indices_nan))\n",
    "\n",
    "df2.loc[indices_nan, 'TipoTarea'] = valores_aleatorios\n",
    "\n",
    "df2.isnull().sum()"
   ]
  },
  {
   "cell_type": "code",
   "execution_count": 32,
   "id": "daed336f",
   "metadata": {},
   "outputs": [
    {
     "data": {
      "text/plain": [
       "ID_Sesion                     0\n",
       "NivelEstudiante               0\n",
       "Disciplina                    0\n",
       "FechaSesion                   0\n",
       "DuracionMinutos               0\n",
       "TotalIndicaciones             0\n",
       "TipoTarea                     0\n",
       "NivelAsistenciaIA             0\n",
       "ResultadoFinal              540\n",
       "UsadoNuevamente             540\n",
       "CalificacionSatisfaccion    540\n",
       "dtype: int64"
      ]
     },
     "execution_count": 32,
     "metadata": {},
     "output_type": "execute_result"
    }
   ],
   "source": [
    "valores_validos = df['NivelAsistenciaIA'].dropna()\n",
    "\n",
    "indices_nan = df2.loc[df2['NivelAsistenciaIA'].isnull()].index\n",
    "\n",
    "valores_aleatorios = np.random.choice(valores_validos, size=len(indices_nan))\n",
    "\n",
    "df2.loc[indices_nan, 'NivelAsistenciaIA'] = valores_aleatorios\n",
    "\n",
    "df2.isnull().sum()"
   ]
  },
  {
   "cell_type": "code",
   "execution_count": 33,
   "id": "544508fd",
   "metadata": {},
   "outputs": [
    {
     "data": {
      "text/plain": [
       "ID_Sesion                     0\n",
       "NivelEstudiante               0\n",
       "Disciplina                    0\n",
       "FechaSesion                   0\n",
       "DuracionMinutos               0\n",
       "TotalIndicaciones             0\n",
       "TipoTarea                     0\n",
       "NivelAsistenciaIA             0\n",
       "ResultadoFinal                0\n",
       "UsadoNuevamente             540\n",
       "CalificacionSatisfaccion    540\n",
       "dtype: int64"
      ]
     },
     "execution_count": 33,
     "metadata": {},
     "output_type": "execute_result"
    }
   ],
   "source": [
    "valores_validos = df['ResultadoFinal'].dropna()\n",
    "\n",
    "indices_nan = df2.loc[df2['ResultadoFinal'].isnull()].index\n",
    "\n",
    "valores_aleatorios = np.random.choice(valores_validos, size=len(indices_nan))\n",
    "\n",
    "df2.loc[indices_nan, 'ResultadoFinal'] = valores_aleatorios\n",
    "\n",
    "df2.isnull().sum()"
   ]
  },
  {
   "cell_type": "code",
   "execution_count": 34,
   "id": "df7a1d25",
   "metadata": {},
   "outputs": [
    {
     "data": {
      "text/plain": [
       "ID_Sesion                     0\n",
       "NivelEstudiante               0\n",
       "Disciplina                    0\n",
       "FechaSesion                   0\n",
       "DuracionMinutos               0\n",
       "TotalIndicaciones             0\n",
       "TipoTarea                     0\n",
       "NivelAsistenciaIA             0\n",
       "ResultadoFinal                0\n",
       "UsadoNuevamente               0\n",
       "CalificacionSatisfaccion    540\n",
       "dtype: int64"
      ]
     },
     "execution_count": 34,
     "metadata": {},
     "output_type": "execute_result"
    }
   ],
   "source": [
    "valores_validos = df['UsadoNuevamente'].dropna()\n",
    "\n",
    "indices_nan = df2.loc[df2['UsadoNuevamente'].isnull()].index\n",
    "\n",
    "valores_aleatorios = np.random.choice(valores_validos, size=len(indices_nan))\n",
    "\n",
    "df2.loc[indices_nan, 'UsadoNuevamente'] = valores_aleatorios\n",
    "\n",
    "df2.isnull().sum()"
   ]
  },
  {
   "cell_type": "code",
   "execution_count": 35,
   "id": "33af9cd0",
   "metadata": {},
   "outputs": [
    {
     "data": {
      "text/plain": [
       "ID_Sesion                   0\n",
       "NivelEstudiante             0\n",
       "Disciplina                  0\n",
       "FechaSesion                 0\n",
       "DuracionMinutos             0\n",
       "TotalIndicaciones           0\n",
       "TipoTarea                   0\n",
       "NivelAsistenciaIA           0\n",
       "ResultadoFinal              0\n",
       "UsadoNuevamente             0\n",
       "CalificacionSatisfaccion    0\n",
       "dtype: int64"
      ]
     },
     "execution_count": 35,
     "metadata": {},
     "output_type": "execute_result"
    }
   ],
   "source": [
    "valores_validos = df['CalificacionSatisfaccion'].dropna()\n",
    "\n",
    "indices_nan = df2.loc[df2['CalificacionSatisfaccion'].isnull()].index\n",
    "\n",
    "valores_aleatorios = np.random.choice(valores_validos, size=len(indices_nan))\n",
    "\n",
    "df2.loc[indices_nan, 'CalificacionSatisfaccion'] = valores_aleatorios\n",
    "\n",
    "df2.isnull().sum()"
   ]
  },
  {
   "cell_type": "code",
   "execution_count": 36,
   "id": "00df6017",
   "metadata": {},
   "outputs": [
    {
     "data": {
      "text/plain": [
       "(10808, 11)"
      ]
     },
     "execution_count": 36,
     "metadata": {},
     "output_type": "execute_result"
    }
   ],
   "source": [
    "df2.shape"
   ]
  },
  {
   "cell_type": "markdown",
   "id": "2bd2c59a",
   "metadata": {
    "tags": [
     "parameters"
    ]
   },
   "source": [
    "# **Depuracion de duplicados:**"
   ]
  },
  {
   "cell_type": "code",
   "execution_count": 39,
   "id": "0ba91aca",
   "metadata": {},
   "outputs": [
    {
     "data": {
      "text/html": [
       "<div>\n",
       "<style scoped>\n",
       "    .dataframe tbody tr th:only-of-type {\n",
       "        vertical-align: middle;\n",
       "    }\n",
       "\n",
       "    .dataframe tbody tr th {\n",
       "        vertical-align: top;\n",
       "    }\n",
       "\n",
       "    .dataframe thead th {\n",
       "        text-align: right;\n",
       "    }\n",
       "</style>\n",
       "<table border=\"1\" class=\"dataframe\">\n",
       "  <thead>\n",
       "    <tr style=\"text-align: right;\">\n",
       "      <th></th>\n",
       "      <th>ID_Sesion</th>\n",
       "      <th>NivelEstudiante</th>\n",
       "      <th>Disciplina</th>\n",
       "      <th>FechaSesion</th>\n",
       "      <th>DuracionMinutos</th>\n",
       "      <th>TotalIndicaciones</th>\n",
       "      <th>TipoTarea</th>\n",
       "      <th>NivelAsistenciaIA</th>\n",
       "      <th>ResultadoFinal</th>\n",
       "      <th>UsadoNuevamente</th>\n",
       "      <th>CalificacionSatisfaccion</th>\n",
       "    </tr>\n",
       "  </thead>\n",
       "  <tbody>\n",
       "    <tr>\n",
       "      <th>0</th>\n",
       "      <td>SESSION00001</td>\n",
       "      <td>Universitario</td>\n",
       "      <td>Ciencias de la Computación</td>\n",
       "      <td>2024-11-03</td>\n",
       "      <td>31.20</td>\n",
       "      <td>11</td>\n",
       "      <td>Estudio</td>\n",
       "      <td>2.0</td>\n",
       "      <td>Tarea Completada</td>\n",
       "      <td>True</td>\n",
       "      <td>1.0</td>\n",
       "    </tr>\n",
       "    <tr>\n",
       "      <th>1</th>\n",
       "      <td>SESSION00002</td>\n",
       "      <td>Universitario</td>\n",
       "      <td>Negocios</td>\n",
       "      <td>2024-08-25</td>\n",
       "      <td>13.09</td>\n",
       "      <td>6</td>\n",
       "      <td>Estudio</td>\n",
       "      <td>3.0</td>\n",
       "      <td>Tarea Completada</td>\n",
       "      <td>True</td>\n",
       "      <td>2.0</td>\n",
       "    </tr>\n",
       "    <tr>\n",
       "      <th>2</th>\n",
       "      <td>SESSION00000</td>\n",
       "      <td>Universitario</td>\n",
       "      <td>Negocios</td>\n",
       "      <td>2025-01-12</td>\n",
       "      <td>19.22</td>\n",
       "      <td>5</td>\n",
       "      <td>Programación</td>\n",
       "      <td>3.0</td>\n",
       "      <td>Tarea Completada</td>\n",
       "      <td>True</td>\n",
       "      <td>3.3</td>\n",
       "    </tr>\n",
       "    <tr>\n",
       "      <th>3</th>\n",
       "      <td>SESSION00004</td>\n",
       "      <td>Universitario</td>\n",
       "      <td>Ciencias de la Computación</td>\n",
       "      <td>2025-05-06</td>\n",
       "      <td>3.70</td>\n",
       "      <td>1</td>\n",
       "      <td>Programación</td>\n",
       "      <td>3.0</td>\n",
       "      <td>Idea Rezagada</td>\n",
       "      <td>True</td>\n",
       "      <td>3.5</td>\n",
       "    </tr>\n",
       "    <tr>\n",
       "      <th>4</th>\n",
       "      <td>SESSION00005</td>\n",
       "      <td>Universitario</td>\n",
       "      <td>Psicología</td>\n",
       "      <td>2025-03-18</td>\n",
       "      <td>28.12</td>\n",
       "      <td>9</td>\n",
       "      <td>Redacción</td>\n",
       "      <td>3.0</td>\n",
       "      <td>Tarea Completada</td>\n",
       "      <td>True</td>\n",
       "      <td>2.9</td>\n",
       "    </tr>\n",
       "    <tr>\n",
       "      <th>...</th>\n",
       "      <td>...</td>\n",
       "      <td>...</td>\n",
       "      <td>...</td>\n",
       "      <td>...</td>\n",
       "      <td>...</td>\n",
       "      <td>...</td>\n",
       "      <td>...</td>\n",
       "      <td>...</td>\n",
       "      <td>...</td>\n",
       "      <td>...</td>\n",
       "      <td>...</td>\n",
       "    </tr>\n",
       "    <tr>\n",
       "      <th>10729</th>\n",
       "      <td>SESSION07940</td>\n",
       "      <td>Universitario</td>\n",
       "      <td>Psicología</td>\n",
       "      <td>2025-02-09</td>\n",
       "      <td>56.13</td>\n",
       "      <td>24</td>\n",
       "      <td>Investigación</td>\n",
       "      <td>2.0</td>\n",
       "      <td>Confundido</td>\n",
       "      <td>False</td>\n",
       "      <td>1.8</td>\n",
       "    </tr>\n",
       "    <tr>\n",
       "      <th>10741</th>\n",
       "      <td>SESSION04427</td>\n",
       "      <td>Preparatoria</td>\n",
       "      <td>Ingeniería</td>\n",
       "      <td>2024-08-28</td>\n",
       "      <td>16.97</td>\n",
       "      <td>3</td>\n",
       "      <td>Estudio</td>\n",
       "      <td>4.0</td>\n",
       "      <td>Gave Up</td>\n",
       "      <td>bbb</td>\n",
       "      <td>2.6</td>\n",
       "    </tr>\n",
       "    <tr>\n",
       "      <th>10758</th>\n",
       "      <td>SESSION00102</td>\n",
       "      <td>Universitario</td>\n",
       "      <td>Ingeniería</td>\n",
       "      <td>2025-01-18</td>\n",
       "      <td>16.16</td>\n",
       "      <td>4</td>\n",
       "      <td>Estudio</td>\n",
       "      <td>4.0</td>\n",
       "      <td>Tarea Completada</td>\n",
       "      <td>True</td>\n",
       "      <td>1.9</td>\n",
       "    </tr>\n",
       "    <tr>\n",
       "      <th>10770</th>\n",
       "      <td>SESSION08149</td>\n",
       "      <td>Graduado</td>\n",
       "      <td>Ingeniería</td>\n",
       "      <td>2024-12-22</td>\n",
       "      <td>20.55</td>\n",
       "      <td>5</td>\n",
       "      <td>Redacción</td>\n",
       "      <td>4.0</td>\n",
       "      <td>Tarea Completada</td>\n",
       "      <td>True</td>\n",
       "      <td>5.0</td>\n",
       "    </tr>\n",
       "    <tr>\n",
       "      <th>10786</th>\n",
       "      <td>SESSION02496</td>\n",
       "      <td>Universitario</td>\n",
       "      <td>Matemáticas</td>\n",
       "      <td>2025-05-14</td>\n",
       "      <td>5.85</td>\n",
       "      <td>1</td>\n",
       "      <td>Lluvia de Ideas</td>\n",
       "      <td>5.0</td>\n",
       "      <td>Idea Rezagada</td>\n",
       "      <td>True</td>\n",
       "      <td>5.0</td>\n",
       "    </tr>\n",
       "  </tbody>\n",
       "</table>\n",
       "<p>9366 rows × 11 columns</p>\n",
       "</div>"
      ],
      "text/plain": [
       "          ID_Sesion NivelEstudiante                  Disciplina FechaSesion  \\\n",
       "0      SESSION00001   Universitario  Ciencias de la Computación  2024-11-03   \n",
       "1      SESSION00002   Universitario                    Negocios  2024-08-25   \n",
       "2      SESSION00000   Universitario                    Negocios  2025-01-12   \n",
       "3      SESSION00004   Universitario  Ciencias de la Computación  2025-05-06   \n",
       "4      SESSION00005   Universitario                  Psicología  2025-03-18   \n",
       "...             ...             ...                         ...         ...   \n",
       "10729  SESSION07940   Universitario                  Psicología  2025-02-09   \n",
       "10741  SESSION04427    Preparatoria                  Ingeniería  2024-08-28   \n",
       "10758  SESSION00102   Universitario                  Ingeniería  2025-01-18   \n",
       "10770  SESSION08149        Graduado                  Ingeniería  2024-12-22   \n",
       "10786  SESSION02496   Universitario                 Matemáticas  2025-05-14   \n",
       "\n",
       "       DuracionMinutos TotalIndicaciones        TipoTarea  NivelAsistenciaIA  \\\n",
       "0                31.20                11          Estudio                2.0   \n",
       "1                13.09                 6          Estudio                3.0   \n",
       "2                19.22                 5     Programación                3.0   \n",
       "3                 3.70                 1     Programación                3.0   \n",
       "4                28.12                 9        Redacción                3.0   \n",
       "...                ...               ...              ...                ...   \n",
       "10729            56.13                24    Investigación                2.0   \n",
       "10741            16.97                 3          Estudio                4.0   \n",
       "10758            16.16                 4          Estudio                4.0   \n",
       "10770            20.55                 5        Redacción                4.0   \n",
       "10786             5.85                 1  Lluvia de Ideas                5.0   \n",
       "\n",
       "         ResultadoFinal UsadoNuevamente  CalificacionSatisfaccion  \n",
       "0      Tarea Completada            True                       1.0  \n",
       "1      Tarea Completada            True                       2.0  \n",
       "2      Tarea Completada            True                       3.3  \n",
       "3         Idea Rezagada            True                       3.5  \n",
       "4      Tarea Completada            True                       2.9  \n",
       "...                 ...             ...                       ...  \n",
       "10729        Confundido           False                       1.8  \n",
       "10741           Gave Up             bbb                       2.6  \n",
       "10758  Tarea Completada            True                       1.9  \n",
       "10770  Tarea Completada            True                       5.0  \n",
       "10786     Idea Rezagada            True                       5.0  \n",
       "\n",
       "[9366 rows x 11 columns]"
      ]
     },
     "execution_count": 39,
     "metadata": {},
     "output_type": "execute_result"
    }
   ],
   "source": [
    "df2=df2.drop_duplicates(subset=['ID_Sesion'])\n",
    "df2"
   ]
  },
  {
   "cell_type": "code",
   "execution_count": 40,
   "id": "4457117e",
   "metadata": {},
   "outputs": [
    {
     "data": {
      "text/plain": [
       "(9366, 11)"
      ]
     },
     "execution_count": 40,
     "metadata": {},
     "output_type": "execute_result"
    }
   ],
   "source": [
    "df2.shape"
   ]
  },
  {
   "cell_type": "code",
   "execution_count": 41,
   "id": "e64476c4",
   "metadata": {},
   "outputs": [
    {
     "data": {
      "text/plain": [
       "np.int64(0)"
      ]
     },
     "execution_count": 41,
     "metadata": {},
     "output_type": "execute_result"
    }
   ],
   "source": [
    "df2.duplicated().sum()"
   ]
  },
  {
   "cell_type": "code",
   "execution_count": 42,
   "id": "c5abe8f8",
   "metadata": {},
   "outputs": [
    {
     "data": {
      "text/html": [
       "<div>\n",
       "<style scoped>\n",
       "    .dataframe tbody tr th:only-of-type {\n",
       "        vertical-align: middle;\n",
       "    }\n",
       "\n",
       "    .dataframe tbody tr th {\n",
       "        vertical-align: top;\n",
       "    }\n",
       "\n",
       "    .dataframe thead th {\n",
       "        text-align: right;\n",
       "    }\n",
       "</style>\n",
       "<table border=\"1\" class=\"dataframe\">\n",
       "  <thead>\n",
       "    <tr style=\"text-align: right;\">\n",
       "      <th></th>\n",
       "      <th>ID_Sesion</th>\n",
       "      <th>NivelEstudiante</th>\n",
       "      <th>Disciplina</th>\n",
       "      <th>FechaSesion</th>\n",
       "      <th>DuracionMinutos</th>\n",
       "      <th>TotalIndicaciones</th>\n",
       "      <th>TipoTarea</th>\n",
       "      <th>NivelAsistenciaIA</th>\n",
       "      <th>ResultadoFinal</th>\n",
       "      <th>UsadoNuevamente</th>\n",
       "      <th>CalificacionSatisfaccion</th>\n",
       "    </tr>\n",
       "  </thead>\n",
       "  <tbody>\n",
       "    <tr>\n",
       "      <th>0</th>\n",
       "      <td>SESSION00001</td>\n",
       "      <td>Universitario</td>\n",
       "      <td>Ciencias de la Computación</td>\n",
       "      <td>2024-11-03</td>\n",
       "      <td>31.20</td>\n",
       "      <td>11</td>\n",
       "      <td>Estudio</td>\n",
       "      <td>2.0</td>\n",
       "      <td>Tarea Completada</td>\n",
       "      <td>True</td>\n",
       "      <td>1.0</td>\n",
       "    </tr>\n",
       "    <tr>\n",
       "      <th>1</th>\n",
       "      <td>SESSION00002</td>\n",
       "      <td>Universitario</td>\n",
       "      <td>Negocios</td>\n",
       "      <td>2024-08-25</td>\n",
       "      <td>13.09</td>\n",
       "      <td>6</td>\n",
       "      <td>Estudio</td>\n",
       "      <td>3.0</td>\n",
       "      <td>Tarea Completada</td>\n",
       "      <td>True</td>\n",
       "      <td>2.0</td>\n",
       "    </tr>\n",
       "    <tr>\n",
       "      <th>2</th>\n",
       "      <td>SESSION00000</td>\n",
       "      <td>Universitario</td>\n",
       "      <td>Negocios</td>\n",
       "      <td>2025-01-12</td>\n",
       "      <td>19.22</td>\n",
       "      <td>5</td>\n",
       "      <td>Programación</td>\n",
       "      <td>3.0</td>\n",
       "      <td>Tarea Completada</td>\n",
       "      <td>True</td>\n",
       "      <td>3.3</td>\n",
       "    </tr>\n",
       "    <tr>\n",
       "      <th>3</th>\n",
       "      <td>SESSION00004</td>\n",
       "      <td>Universitario</td>\n",
       "      <td>Ciencias de la Computación</td>\n",
       "      <td>2025-05-06</td>\n",
       "      <td>3.70</td>\n",
       "      <td>1</td>\n",
       "      <td>Programación</td>\n",
       "      <td>3.0</td>\n",
       "      <td>Idea Rezagada</td>\n",
       "      <td>True</td>\n",
       "      <td>3.5</td>\n",
       "    </tr>\n",
       "    <tr>\n",
       "      <th>4</th>\n",
       "      <td>SESSION00005</td>\n",
       "      <td>Universitario</td>\n",
       "      <td>Psicología</td>\n",
       "      <td>2025-03-18</td>\n",
       "      <td>28.12</td>\n",
       "      <td>9</td>\n",
       "      <td>Redacción</td>\n",
       "      <td>3.0</td>\n",
       "      <td>Tarea Completada</td>\n",
       "      <td>True</td>\n",
       "      <td>2.9</td>\n",
       "    </tr>\n",
       "    <tr>\n",
       "      <th>...</th>\n",
       "      <td>...</td>\n",
       "      <td>...</td>\n",
       "      <td>...</td>\n",
       "      <td>...</td>\n",
       "      <td>...</td>\n",
       "      <td>...</td>\n",
       "      <td>...</td>\n",
       "      <td>...</td>\n",
       "      <td>...</td>\n",
       "      <td>...</td>\n",
       "      <td>...</td>\n",
       "    </tr>\n",
       "    <tr>\n",
       "      <th>10729</th>\n",
       "      <td>SESSION07940</td>\n",
       "      <td>Universitario</td>\n",
       "      <td>Psicología</td>\n",
       "      <td>2025-02-09</td>\n",
       "      <td>56.13</td>\n",
       "      <td>24</td>\n",
       "      <td>Investigación</td>\n",
       "      <td>2.0</td>\n",
       "      <td>Confundido</td>\n",
       "      <td>False</td>\n",
       "      <td>1.8</td>\n",
       "    </tr>\n",
       "    <tr>\n",
       "      <th>10741</th>\n",
       "      <td>SESSION04427</td>\n",
       "      <td>Preparatoria</td>\n",
       "      <td>Ingeniería</td>\n",
       "      <td>2024-08-28</td>\n",
       "      <td>16.97</td>\n",
       "      <td>3</td>\n",
       "      <td>Estudio</td>\n",
       "      <td>4.0</td>\n",
       "      <td>Gave Up</td>\n",
       "      <td>bbb</td>\n",
       "      <td>2.6</td>\n",
       "    </tr>\n",
       "    <tr>\n",
       "      <th>10758</th>\n",
       "      <td>SESSION00102</td>\n",
       "      <td>Universitario</td>\n",
       "      <td>Ingeniería</td>\n",
       "      <td>2025-01-18</td>\n",
       "      <td>16.16</td>\n",
       "      <td>4</td>\n",
       "      <td>Estudio</td>\n",
       "      <td>4.0</td>\n",
       "      <td>Tarea Completada</td>\n",
       "      <td>True</td>\n",
       "      <td>1.9</td>\n",
       "    </tr>\n",
       "    <tr>\n",
       "      <th>10770</th>\n",
       "      <td>SESSION08149</td>\n",
       "      <td>Graduado</td>\n",
       "      <td>Ingeniería</td>\n",
       "      <td>2024-12-22</td>\n",
       "      <td>20.55</td>\n",
       "      <td>5</td>\n",
       "      <td>Redacción</td>\n",
       "      <td>4.0</td>\n",
       "      <td>Tarea Completada</td>\n",
       "      <td>True</td>\n",
       "      <td>5.0</td>\n",
       "    </tr>\n",
       "    <tr>\n",
       "      <th>10786</th>\n",
       "      <td>SESSION02496</td>\n",
       "      <td>Universitario</td>\n",
       "      <td>Matemáticas</td>\n",
       "      <td>2025-05-14</td>\n",
       "      <td>5.85</td>\n",
       "      <td>1</td>\n",
       "      <td>Lluvia de Ideas</td>\n",
       "      <td>5.0</td>\n",
       "      <td>Idea Rezagada</td>\n",
       "      <td>True</td>\n",
       "      <td>5.0</td>\n",
       "    </tr>\n",
       "  </tbody>\n",
       "</table>\n",
       "<p>9366 rows × 11 columns</p>\n",
       "</div>"
      ],
      "text/plain": [
       "          ID_Sesion NivelEstudiante                  Disciplina FechaSesion  \\\n",
       "0      SESSION00001   Universitario  Ciencias de la Computación  2024-11-03   \n",
       "1      SESSION00002   Universitario                    Negocios  2024-08-25   \n",
       "2      SESSION00000   Universitario                    Negocios  2025-01-12   \n",
       "3      SESSION00004   Universitario  Ciencias de la Computación  2025-05-06   \n",
       "4      SESSION00005   Universitario                  Psicología  2025-03-18   \n",
       "...             ...             ...                         ...         ...   \n",
       "10729  SESSION07940   Universitario                  Psicología  2025-02-09   \n",
       "10741  SESSION04427    Preparatoria                  Ingeniería  2024-08-28   \n",
       "10758  SESSION00102   Universitario                  Ingeniería  2025-01-18   \n",
       "10770  SESSION08149        Graduado                  Ingeniería  2024-12-22   \n",
       "10786  SESSION02496   Universitario                 Matemáticas  2025-05-14   \n",
       "\n",
       "       DuracionMinutos TotalIndicaciones        TipoTarea  NivelAsistenciaIA  \\\n",
       "0                31.20                11          Estudio                2.0   \n",
       "1                13.09                 6          Estudio                3.0   \n",
       "2                19.22                 5     Programación                3.0   \n",
       "3                 3.70                 1     Programación                3.0   \n",
       "4                28.12                 9        Redacción                3.0   \n",
       "...                ...               ...              ...                ...   \n",
       "10729            56.13                24    Investigación                2.0   \n",
       "10741            16.97                 3          Estudio                4.0   \n",
       "10758            16.16                 4          Estudio                4.0   \n",
       "10770            20.55                 5        Redacción                4.0   \n",
       "10786             5.85                 1  Lluvia de Ideas                5.0   \n",
       "\n",
       "         ResultadoFinal UsadoNuevamente  CalificacionSatisfaccion  \n",
       "0      Tarea Completada            True                       1.0  \n",
       "1      Tarea Completada            True                       2.0  \n",
       "2      Tarea Completada            True                       3.3  \n",
       "3         Idea Rezagada            True                       3.5  \n",
       "4      Tarea Completada            True                       2.9  \n",
       "...                 ...             ...                       ...  \n",
       "10729        Confundido           False                       1.8  \n",
       "10741           Gave Up             bbb                       2.6  \n",
       "10758  Tarea Completada            True                       1.9  \n",
       "10770  Tarea Completada            True                       5.0  \n",
       "10786     Idea Rezagada            True                       5.0  \n",
       "\n",
       "[9366 rows x 11 columns]"
      ]
     },
     "execution_count": 42,
     "metadata": {},
     "output_type": "execute_result"
    }
   ],
   "source": [
    "df2\n"
   ]
  },
  {
   "cell_type": "markdown",
   "id": "aa377d29",
   "metadata": {},
   "source": [
    "# **Buscar y eliminar si lo hay, texto especifico:**\n",
    "\n",
    "El \"bbb\" es nuestro texto expecifico, hay que eliminarlo. Pero primero, hay que buscarlo."
   ]
  },
  {
   "cell_type": "code",
   "execution_count": 43,
   "id": "e61b8254",
   "metadata": {},
   "outputs": [
    {
     "data": {
      "text/plain": [
       "array(['SESSION00001', 'SESSION00002', 'SESSION00000', ...,\n",
       "       'SESSION00102', 'SESSION08149', 'SESSION02496'],\n",
       "      shape=(9366,), dtype=object)"
      ]
     },
     "execution_count": 43,
     "metadata": {},
     "output_type": "execute_result"
    }
   ],
   "source": [
    "df2['ID_Sesion'].unique()"
   ]
  },
  {
   "cell_type": "code",
   "execution_count": 44,
   "id": "9df2819e",
   "metadata": {},
   "outputs": [
    {
     "data": {
      "text/plain": [
       "array(['Universitario', 'Graduado', 'Preparatoria'], dtype=object)"
      ]
     },
     "execution_count": 44,
     "metadata": {},
     "output_type": "execute_result"
    }
   ],
   "source": [
    "df2['NivelEstudiante'].unique()"
   ]
  },
  {
   "cell_type": "code",
   "execution_count": 45,
   "id": "dbea2559",
   "metadata": {},
   "outputs": [
    {
     "data": {
      "text/plain": [
       "array(['Ciencias de la Computación', 'Negocios', 'Psicología', 'Biología',\n",
       "       'Matemáticas', 'Historia', 'Ingeniería', 'bbb'], dtype=object)"
      ]
     },
     "execution_count": 45,
     "metadata": {},
     "output_type": "execute_result"
    }
   ],
   "source": [
    "df2['Disciplina'].unique()"
   ]
  },
  {
   "cell_type": "code",
   "execution_count": 46,
   "id": "7103c767",
   "metadata": {},
   "outputs": [
    {
     "data": {
      "text/plain": [
       "array(['2024-11-03', '2024-08-25', '2025-01-12', '2025-05-06',\n",
       "       '2025-03-18', '2025-01-17', '2024-09-07', '2025-06-18',\n",
       "       '2025-04-14', '2025-02-24', '2024-11-07', '2024-07-05',\n",
       "       '2025-06-21', '2024-11-22', '2025-04-27', '2024-12-08',\n",
       "       '2024-08-03', '2025-05-03', '2025-01-09', '2025-04-21',\n",
       "       '2025-05-05', '2024-11-27', '2024-09-14', '2024-08-28',\n",
       "       '2024-09-05', '2025-02-20', '2024-08-11', '2024-12-28',\n",
       "       '2025-02-06', '2025-04-10', '2025-03-21', '2024-07-19',\n",
       "       '2025-04-09', '2024-09-20', '2025-05-14', '2025-03-06',\n",
       "       '2025-06-13', '2025-04-25', '2025-01-26', '2025-03-27',\n",
       "       '2024-12-18', '2024-11-21', '2024-10-27', '2025-02-28',\n",
       "       '2024-11-14', '2024-09-09', '2025-06-08', '2024-07-10',\n",
       "       '2024-07-08', '2024-12-16', '2024-06-25', '2025-01-31',\n",
       "       '2024-08-01', '2024-06-30', '2025-03-09', '2024-11-15',\n",
       "       '2025-03-02', '2024-11-02', '2024-12-02', '2025-04-11',\n",
       "       '2024-10-24', '2025-05-24', '2024-12-20', '2024-07-27',\n",
       "       '2024-08-15', '2024-10-06', '2024-07-31', '2025-02-09',\n",
       "       '2025-01-28', '2025-04-17', '2024-08-08', '2024-12-24',\n",
       "       '2025-01-01', '2025-01-24', '2025-04-01', '2025-04-15',\n",
       "       '2024-08-09', '2025-02-21', '2025-05-04', '2024-07-06',\n",
       "       '2025-02-26', '2024-09-27', '2024-10-23', '2025-01-18',\n",
       "       '2025-05-09', '2024-12-06', '2024-07-09', '2025-05-23',\n",
       "       '2024-08-04', '2025-03-10', '2025-06-23', '2024-10-18',\n",
       "       '2024-08-16', '2024-10-02', '2024-11-18', '2024-08-22',\n",
       "       '2024-10-11', '2025-05-20', '2024-12-01', '2025-01-16',\n",
       "       '2024-11-12', '2024-07-23', '2024-10-21', '2025-04-06',\n",
       "       '2024-11-29', '2024-07-02', '2024-07-04', '2024-10-12',\n",
       "       '2024-10-29', '2024-09-03', '2024-07-30', '2025-06-20',\n",
       "       '2025-01-13', '2025-02-13', '2025-02-11', '2024-11-11',\n",
       "       '2024-08-07', '2025-02-25', '2025-04-18', '2024-10-31',\n",
       "       '2024-10-25', '2025-06-04', '2024-09-02', '2025-02-02',\n",
       "       '2025-02-05', '2025-04-30', '2024-07-24', '2024-09-21',\n",
       "       '2024-07-13', '2024-10-09', '2024-10-22', '2025-05-16',\n",
       "       '2025-01-23', '2025-01-20', '2025-06-22', '2025-05-27',\n",
       "       '2025-03-19', '2025-02-03', '2024-10-17', '2025-06-10',\n",
       "       '2024-08-02', '2025-06-06', '2025-04-12', '2025-06-15',\n",
       "       '2025-05-30', '2024-12-04', '2025-04-07', '2024-07-14',\n",
       "       '2024-07-20', '2025-05-02', '2025-02-07', '2025-06-05',\n",
       "       '2024-12-26', '2024-12-23', '2024-11-28', '2024-10-04',\n",
       "       '2024-08-24', '2025-02-08', '2025-01-27', '2024-08-05',\n",
       "       '2024-09-28', '2024-07-25', '2025-01-30', '2025-03-23',\n",
       "       '2025-05-26', '2025-02-23', '2024-09-16', '2025-04-03',\n",
       "       '2025-03-26', '2024-08-12', '2025-05-25', '2025-03-16',\n",
       "       '2025-01-07', '2024-09-24', '2024-06-26', '2025-03-15',\n",
       "       '2025-05-29', '2024-10-08', '2025-04-28', '2024-09-04',\n",
       "       '2025-01-22', '2024-07-17', '2024-12-07', '2025-02-17',\n",
       "       '2024-09-06', '2025-05-10', '2025-01-14', '2024-10-15',\n",
       "       '2024-11-04', '2024-11-30', '2025-06-12', '2024-10-13',\n",
       "       '2025-02-18', '2025-05-22', '2025-03-25', '2024-10-01',\n",
       "       '2025-02-14', '2025-01-03', '2024-06-24', '2024-09-30',\n",
       "       '2025-02-27', '2025-02-04', '2025-03-11', '2024-08-14',\n",
       "       '2024-09-29', '2024-07-12', '2024-11-24', '2025-03-04',\n",
       "       '2024-09-13', '2025-03-29', '2024-08-06', '2025-05-12',\n",
       "       '2024-06-29', '2024-09-12', '2024-12-14', '2024-08-19',\n",
       "       '2024-08-10', '2025-03-07', '2025-01-11', '2024-12-13',\n",
       "       '2025-03-08', '2024-09-10', '2024-11-08', '2024-09-26',\n",
       "       '2024-12-31', '2024-12-30', '2024-12-10', '2024-12-09',\n",
       "       '2024-12-21', '2025-04-23', '2025-05-13', '2024-12-19',\n",
       "       '2024-10-14', '2024-09-11', '2025-06-01', '2024-08-17',\n",
       "       '2024-10-10', '2025-04-16', '2025-01-15', '2024-12-17',\n",
       "       '2024-11-06', '2024-10-19', '2024-09-19', '2024-12-15',\n",
       "       '2024-12-27', '2024-09-17', '2024-12-11', '2024-09-23',\n",
       "       '2025-03-01', '2024-12-29', '2024-11-20', '2024-10-05',\n",
       "       '2025-03-31', '2024-10-07', '2025-01-10', '2024-07-01',\n",
       "       '2024-07-18', '2025-06-02', '2024-09-25', '2025-01-25',\n",
       "       '2025-06-17', '2025-02-22', '2024-08-20', '2025-04-04',\n",
       "       '2024-10-20', '2025-03-30', '2024-12-05', '2025-02-12',\n",
       "       '2025-01-29', '2024-11-09', '2024-09-08', '2024-10-28',\n",
       "       '2024-07-11', '2024-11-01', '2024-12-22', '2024-07-22',\n",
       "       '2024-12-12', '2024-09-15', '2024-06-28', '2025-02-16',\n",
       "       '2024-12-25', '2024-08-27', '2025-04-02', '2025-05-17',\n",
       "       '2024-08-18', '2025-04-29', '2025-06-03', '2024-10-30',\n",
       "       '2024-07-28', '2025-01-05', '2024-08-26', '2025-02-01',\n",
       "       '2024-09-22', '2024-09-01', '2025-05-11', '2024-10-16',\n",
       "       '2025-02-19', '2024-11-23', '2024-11-13', '2025-04-13',\n",
       "       '2025-03-17', '2024-07-29', '2024-08-29', '2024-11-16',\n",
       "       '2024-07-07', '2024-08-31', '2025-06-16', '2024-07-26',\n",
       "       '2025-03-22', '2025-03-28', '2025-03-13', '2024-10-03',\n",
       "       '2025-04-19', '2025-04-20', '2025-06-19', '2025-03-03',\n",
       "       '2025-05-07', '2025-01-19', '2025-06-11', '2025-05-15',\n",
       "       '2025-05-01', '2024-07-21', '2024-10-26', '2025-05-19',\n",
       "       '2025-04-22', '2024-07-03', '2025-04-08', '2025-04-24',\n",
       "       '2024-07-16', '2024-08-21', '2025-03-12', '2025-06-14',\n",
       "       '2025-01-21', '2025-04-26', '2025-01-06', '2024-11-17',\n",
       "       '2024-11-05', '2025-01-08', '2025-03-14', '2025-05-31',\n",
       "       '2024-11-26', '2024-08-23', '2024-08-13', '2025-05-18',\n",
       "       '2025-01-04', '2025-02-15', '2025-05-21', '2024-09-18',\n",
       "       '2025-01-02', '2024-06-27', '2025-05-08', '2025-02-10',\n",
       "       '2025-05-28', '2024-11-25', '2025-06-24', '2024-12-03',\n",
       "       '2024-07-15', '2025-06-07', '2025-03-20', '2024-08-30',\n",
       "       '2025-06-09', '2024-11-10', '2024-11-19', '2025-04-05',\n",
       "       '2025-03-05', '2025-03-24'], dtype=object)"
      ]
     },
     "execution_count": 46,
     "metadata": {},
     "output_type": "execute_result"
    }
   ],
   "source": [
    "df2['FechaSesion'].unique()"
   ]
  },
  {
   "cell_type": "code",
   "execution_count": 47,
   "id": "a49930c6",
   "metadata": {},
   "outputs": [
    {
     "data": {
      "text/plain": [
       "array([31.2 , 13.09, 19.22, ..., 49.62, 11.62, 56.13], shape=(3885,))"
      ]
     },
     "execution_count": 47,
     "metadata": {},
     "output_type": "execute_result"
    }
   ],
   "source": [
    "df2['DuracionMinutos'].unique()"
   ]
  },
  {
   "cell_type": "code",
   "execution_count": 48,
   "id": "1e2290d5",
   "metadata": {},
   "outputs": [
    {
     "data": {
      "text/plain": [
       "array(['11', '6', '5', '1', '9', '3', '8', '2', '4', '7', '10', '15',\n",
       "       '12', 'bbb', '19', '20', '13', '16', '14', '25', '17', '31', '21',\n",
       "       '18', '28', '23', '24', '22', '38', '29', '26', '33', '34', '39',\n",
       "       '30', '27'], dtype=object)"
      ]
     },
     "execution_count": 48,
     "metadata": {},
     "output_type": "execute_result"
    }
   ],
   "source": [
    "df2['TotalIndicaciones'].unique()"
   ]
  },
  {
   "cell_type": "code",
   "execution_count": 49,
   "id": "07d745cf",
   "metadata": {},
   "outputs": [
    {
     "data": {
      "text/plain": [
       "array(['Estudio', 'Programación', 'Redacción', 'Lluvia de Ideas',\n",
       "       'Ayuda con Tareas', 'bbb', 'Investigación'], dtype=object)"
      ]
     },
     "execution_count": 49,
     "metadata": {},
     "output_type": "execute_result"
    }
   ],
   "source": [
    "df2['TipoTarea'].unique()"
   ]
  },
  {
   "cell_type": "code",
   "execution_count": 50,
   "id": "f9362dd3",
   "metadata": {},
   "outputs": [
    {
     "data": {
      "text/plain": [
       "array(['Tarea Completada', 'Idea Rezagada', 'Confundido', 'Gave Up'],\n",
       "      dtype=object)"
      ]
     },
     "execution_count": 50,
     "metadata": {},
     "output_type": "execute_result"
    }
   ],
   "source": [
    "df2['ResultadoFinal'].unique()"
   ]
  },
  {
   "cell_type": "code",
   "execution_count": 51,
   "id": "6108e602",
   "metadata": {},
   "outputs": [
    {
     "data": {
      "text/plain": [
       "array(['True', 'False', 'bbb'], dtype=object)"
      ]
     },
     "execution_count": 51,
     "metadata": {},
     "output_type": "execute_result"
    }
   ],
   "source": [
    "df2['UsadoNuevamente'].unique()"
   ]
  },
  {
   "cell_type": "code",
   "execution_count": 52,
   "id": "cfc39d62",
   "metadata": {},
   "outputs": [
    {
     "data": {
      "text/plain": [
       "array([1. , 2. , 3.3, 3.5, 2.9, 5. , 1.9, 1.4, 3.9, 4.2, 3.7, 4.7, 4.9,\n",
       "       4.4, 3.1, 3.6, 4.3, 3.2, 4. , 3.4, 2.5, 2.4, 2.6, 1.2, 1.6, 2.2,\n",
       "       1.7, 4.6, 4.8, 2.3, 2.8, 4.5, 2.7, 3.8, 1.8, 1.5, 4.1, 2.1, 1.3,\n",
       "       3. , 1.1])"
      ]
     },
     "execution_count": 52,
     "metadata": {},
     "output_type": "execute_result"
    }
   ],
   "source": [
    "df2['CalificacionSatisfaccion'].unique()"
   ]
  },
  {
   "cell_type": "code",
   "execution_count": 53,
   "id": "544b8923",
   "metadata": {},
   "outputs": [
    {
     "data": {
      "text/plain": [
       "array([2., 3., 5., 4., 1.])"
      ]
     },
     "execution_count": 53,
     "metadata": {},
     "output_type": "execute_result"
    }
   ],
   "source": [
    "df2['NivelAsistenciaIA'].unique()"
   ]
  },
  {
   "cell_type": "code",
   "execution_count": 54,
   "id": "8fc67ea6",
   "metadata": {},
   "outputs": [
    {
     "data": {
      "text/plain": [
       "Index(['ID_Sesion', 'NivelEstudiante', 'Disciplina', 'FechaSesion',\n",
       "       'DuracionMinutos', 'TotalIndicaciones', 'TipoTarea',\n",
       "       'NivelAsistenciaIA', 'ResultadoFinal', 'UsadoNuevamente',\n",
       "       'CalificacionSatisfaccion'],\n",
       "      dtype='object')"
      ]
     },
     "execution_count": 54,
     "metadata": {},
     "output_type": "execute_result"
    }
   ],
   "source": [
    "df.columns"
   ]
  },
  {
   "cell_type": "markdown",
   "id": "0a7f92cf",
   "metadata": {},
   "source": [
    "# **Detectando valores especificos:**\n",
    "\n",
    "Una vez encontramos aquellos que tienen el texto especifico, buscamos cuanto de este texto hay."
   ]
  },
  {
   "cell_type": "code",
   "execution_count": 55,
   "id": "a5ebb099",
   "metadata": {},
   "outputs": [
    {
     "data": {
      "text/plain": [
       "186"
      ]
     },
     "execution_count": 55,
     "metadata": {},
     "output_type": "execute_result"
    }
   ],
   "source": [
    "df2[df2['Disciplina'] == 'bbb'].shape[0]"
   ]
  },
  {
   "cell_type": "code",
   "execution_count": 56,
   "id": "23a21ba5",
   "metadata": {},
   "outputs": [
    {
     "data": {
      "text/plain": [
       "196"
      ]
     },
     "execution_count": 56,
     "metadata": {},
     "output_type": "execute_result"
    }
   ],
   "source": [
    "df2[df2['UsadoNuevamente'] == 'bbb'].shape[0]"
   ]
  },
  {
   "cell_type": "code",
   "execution_count": 57,
   "id": "decfa484",
   "metadata": {},
   "outputs": [
    {
     "data": {
      "text/plain": [
       "185"
      ]
     },
     "execution_count": 57,
     "metadata": {},
     "output_type": "execute_result"
    }
   ],
   "source": [
    "df2[df2['TipoTarea'] == 'bbb'].shape[0]"
   ]
  },
  {
   "cell_type": "code",
   "execution_count": 58,
   "id": "8a171bb0",
   "metadata": {},
   "outputs": [
    {
     "data": {
      "text/plain": [
       "183"
      ]
     },
     "execution_count": 58,
     "metadata": {},
     "output_type": "execute_result"
    }
   ],
   "source": [
    "df2[df2['TotalIndicaciones'] == 'bbb'].shape[0]"
   ]
  },
  {
   "cell_type": "markdown",
   "id": "b599ed3f",
   "metadata": {},
   "source": [
    "**Eliminando valores especificos:**"
   ]
  },
  {
   "cell_type": "code",
   "execution_count": 59,
   "id": "858c265a",
   "metadata": {},
   "outputs": [],
   "source": [
    "df2=df2[df2['Disciplina'] != 'bbb']"
   ]
  },
  {
   "cell_type": "code",
   "execution_count": 60,
   "id": "40d8eef3",
   "metadata": {},
   "outputs": [],
   "source": [
    "df2=df2[df2['UsadoNuevamente'] != 'bbb']"
   ]
  },
  {
   "cell_type": "code",
   "execution_count": 61,
   "id": "beafef49",
   "metadata": {},
   "outputs": [],
   "source": [
    "df2=df2[df2['TipoTarea'] != 'bbb']"
   ]
  },
  {
   "cell_type": "code",
   "execution_count": 62,
   "id": "e9d5cf2c",
   "metadata": {},
   "outputs": [],
   "source": [
    "df2=df2[df2['TotalIndicaciones'] != 'bbb']"
   ]
  },
  {
   "cell_type": "markdown",
   "id": "ec57fa77",
   "metadata": {},
   "source": [
    "**Comprobación:**"
   ]
  },
  {
   "cell_type": "code",
   "execution_count": 63,
   "id": "316f6d80",
   "metadata": {},
   "outputs": [
    {
     "data": {
      "text/plain": [
       "0"
      ]
     },
     "execution_count": 63,
     "metadata": {},
     "output_type": "execute_result"
    }
   ],
   "source": [
    "df2[df2['Disciplina'] == 'bbb'].shape[0]"
   ]
  },
  {
   "cell_type": "code",
   "execution_count": 64,
   "id": "ed093c33",
   "metadata": {},
   "outputs": [
    {
     "data": {
      "text/plain": [
       "0"
      ]
     },
     "execution_count": 64,
     "metadata": {},
     "output_type": "execute_result"
    }
   ],
   "source": [
    "df2[df2['UsadoNuevamente'] == 'bbb'].shape[0]"
   ]
  },
  {
   "cell_type": "code",
   "execution_count": 65,
   "id": "daad2d35",
   "metadata": {},
   "outputs": [
    {
     "data": {
      "text/plain": [
       "0"
      ]
     },
     "execution_count": 65,
     "metadata": {},
     "output_type": "execute_result"
    }
   ],
   "source": [
    "df2[df2['TipoTarea'] == 'bbb'].shape[0]"
   ]
  },
  {
   "cell_type": "code",
   "execution_count": 66,
   "id": "c3016474",
   "metadata": {},
   "outputs": [
    {
     "data": {
      "text/plain": [
       "0"
      ]
     },
     "execution_count": 66,
     "metadata": {},
     "output_type": "execute_result"
    }
   ],
   "source": [
    "df2[df2['TotalIndicaciones'] == 'bbb'].shape[0]"
   ]
  },
  {
   "cell_type": "code",
   "execution_count": 67,
   "id": "c759652d",
   "metadata": {},
   "outputs": [
    {
     "data": {
      "text/plain": [
       "(8636, 11)"
      ]
     },
     "execution_count": 67,
     "metadata": {},
     "output_type": "execute_result"
    }
   ],
   "source": [
    "df2.shape"
   ]
  },
  {
   "cell_type": "code",
   "execution_count": 68,
   "id": "7c0880c3",
   "metadata": {},
   "outputs": [
    {
     "data": {
      "text/html": [
       "<div>\n",
       "<style scoped>\n",
       "    .dataframe tbody tr th:only-of-type {\n",
       "        vertical-align: middle;\n",
       "    }\n",
       "\n",
       "    .dataframe tbody tr th {\n",
       "        vertical-align: top;\n",
       "    }\n",
       "\n",
       "    .dataframe thead th {\n",
       "        text-align: right;\n",
       "    }\n",
       "</style>\n",
       "<table border=\"1\" class=\"dataframe\">\n",
       "  <thead>\n",
       "    <tr style=\"text-align: right;\">\n",
       "      <th></th>\n",
       "      <th>ID_Sesion</th>\n",
       "      <th>NivelEstudiante</th>\n",
       "      <th>Disciplina</th>\n",
       "      <th>FechaSesion</th>\n",
       "      <th>DuracionMinutos</th>\n",
       "      <th>TotalIndicaciones</th>\n",
       "      <th>TipoTarea</th>\n",
       "      <th>NivelAsistenciaIA</th>\n",
       "      <th>ResultadoFinal</th>\n",
       "      <th>UsadoNuevamente</th>\n",
       "      <th>CalificacionSatisfaccion</th>\n",
       "    </tr>\n",
       "  </thead>\n",
       "  <tbody>\n",
       "    <tr>\n",
       "      <th>0</th>\n",
       "      <td>SESSION00001</td>\n",
       "      <td>Universitario</td>\n",
       "      <td>Ciencias de la Computación</td>\n",
       "      <td>2024-11-03</td>\n",
       "      <td>31.20</td>\n",
       "      <td>11</td>\n",
       "      <td>Estudio</td>\n",
       "      <td>2.0</td>\n",
       "      <td>Tarea Completada</td>\n",
       "      <td>True</td>\n",
       "      <td>1.0</td>\n",
       "    </tr>\n",
       "    <tr>\n",
       "      <th>1</th>\n",
       "      <td>SESSION00002</td>\n",
       "      <td>Universitario</td>\n",
       "      <td>Negocios</td>\n",
       "      <td>2024-08-25</td>\n",
       "      <td>13.09</td>\n",
       "      <td>6</td>\n",
       "      <td>Estudio</td>\n",
       "      <td>3.0</td>\n",
       "      <td>Tarea Completada</td>\n",
       "      <td>True</td>\n",
       "      <td>2.0</td>\n",
       "    </tr>\n",
       "    <tr>\n",
       "      <th>2</th>\n",
       "      <td>SESSION00000</td>\n",
       "      <td>Universitario</td>\n",
       "      <td>Negocios</td>\n",
       "      <td>2025-01-12</td>\n",
       "      <td>19.22</td>\n",
       "      <td>5</td>\n",
       "      <td>Programación</td>\n",
       "      <td>3.0</td>\n",
       "      <td>Tarea Completada</td>\n",
       "      <td>True</td>\n",
       "      <td>3.3</td>\n",
       "    </tr>\n",
       "    <tr>\n",
       "      <th>3</th>\n",
       "      <td>SESSION00004</td>\n",
       "      <td>Universitario</td>\n",
       "      <td>Ciencias de la Computación</td>\n",
       "      <td>2025-05-06</td>\n",
       "      <td>3.70</td>\n",
       "      <td>1</td>\n",
       "      <td>Programación</td>\n",
       "      <td>3.0</td>\n",
       "      <td>Idea Rezagada</td>\n",
       "      <td>True</td>\n",
       "      <td>3.5</td>\n",
       "    </tr>\n",
       "    <tr>\n",
       "      <th>4</th>\n",
       "      <td>SESSION00005</td>\n",
       "      <td>Universitario</td>\n",
       "      <td>Psicología</td>\n",
       "      <td>2025-03-18</td>\n",
       "      <td>28.12</td>\n",
       "      <td>9</td>\n",
       "      <td>Redacción</td>\n",
       "      <td>3.0</td>\n",
       "      <td>Tarea Completada</td>\n",
       "      <td>True</td>\n",
       "      <td>2.9</td>\n",
       "    </tr>\n",
       "    <tr>\n",
       "      <th>...</th>\n",
       "      <td>...</td>\n",
       "      <td>...</td>\n",
       "      <td>...</td>\n",
       "      <td>...</td>\n",
       "      <td>...</td>\n",
       "      <td>...</td>\n",
       "      <td>...</td>\n",
       "      <td>...</td>\n",
       "      <td>...</td>\n",
       "      <td>...</td>\n",
       "      <td>...</td>\n",
       "    </tr>\n",
       "    <tr>\n",
       "      <th>10719</th>\n",
       "      <td>SESSION09607</td>\n",
       "      <td>Graduado</td>\n",
       "      <td>Matemáticas</td>\n",
       "      <td>2025-05-09</td>\n",
       "      <td>11.62</td>\n",
       "      <td>3</td>\n",
       "      <td>Redacción</td>\n",
       "      <td>3.0</td>\n",
       "      <td>Idea Rezagada</td>\n",
       "      <td>True</td>\n",
       "      <td>3.3</td>\n",
       "    </tr>\n",
       "    <tr>\n",
       "      <th>10729</th>\n",
       "      <td>SESSION07940</td>\n",
       "      <td>Universitario</td>\n",
       "      <td>Psicología</td>\n",
       "      <td>2025-02-09</td>\n",
       "      <td>56.13</td>\n",
       "      <td>24</td>\n",
       "      <td>Investigación</td>\n",
       "      <td>2.0</td>\n",
       "      <td>Confundido</td>\n",
       "      <td>False</td>\n",
       "      <td>1.8</td>\n",
       "    </tr>\n",
       "    <tr>\n",
       "      <th>10758</th>\n",
       "      <td>SESSION00102</td>\n",
       "      <td>Universitario</td>\n",
       "      <td>Ingeniería</td>\n",
       "      <td>2025-01-18</td>\n",
       "      <td>16.16</td>\n",
       "      <td>4</td>\n",
       "      <td>Estudio</td>\n",
       "      <td>4.0</td>\n",
       "      <td>Tarea Completada</td>\n",
       "      <td>True</td>\n",
       "      <td>1.9</td>\n",
       "    </tr>\n",
       "    <tr>\n",
       "      <th>10770</th>\n",
       "      <td>SESSION08149</td>\n",
       "      <td>Graduado</td>\n",
       "      <td>Ingeniería</td>\n",
       "      <td>2024-12-22</td>\n",
       "      <td>20.55</td>\n",
       "      <td>5</td>\n",
       "      <td>Redacción</td>\n",
       "      <td>4.0</td>\n",
       "      <td>Tarea Completada</td>\n",
       "      <td>True</td>\n",
       "      <td>5.0</td>\n",
       "    </tr>\n",
       "    <tr>\n",
       "      <th>10786</th>\n",
       "      <td>SESSION02496</td>\n",
       "      <td>Universitario</td>\n",
       "      <td>Matemáticas</td>\n",
       "      <td>2025-05-14</td>\n",
       "      <td>5.85</td>\n",
       "      <td>1</td>\n",
       "      <td>Lluvia de Ideas</td>\n",
       "      <td>5.0</td>\n",
       "      <td>Idea Rezagada</td>\n",
       "      <td>True</td>\n",
       "      <td>5.0</td>\n",
       "    </tr>\n",
       "  </tbody>\n",
       "</table>\n",
       "<p>8636 rows × 11 columns</p>\n",
       "</div>"
      ],
      "text/plain": [
       "          ID_Sesion NivelEstudiante                  Disciplina FechaSesion  \\\n",
       "0      SESSION00001   Universitario  Ciencias de la Computación  2024-11-03   \n",
       "1      SESSION00002   Universitario                    Negocios  2024-08-25   \n",
       "2      SESSION00000   Universitario                    Negocios  2025-01-12   \n",
       "3      SESSION00004   Universitario  Ciencias de la Computación  2025-05-06   \n",
       "4      SESSION00005   Universitario                  Psicología  2025-03-18   \n",
       "...             ...             ...                         ...         ...   \n",
       "10719  SESSION09607        Graduado                 Matemáticas  2025-05-09   \n",
       "10729  SESSION07940   Universitario                  Psicología  2025-02-09   \n",
       "10758  SESSION00102   Universitario                  Ingeniería  2025-01-18   \n",
       "10770  SESSION08149        Graduado                  Ingeniería  2024-12-22   \n",
       "10786  SESSION02496   Universitario                 Matemáticas  2025-05-14   \n",
       "\n",
       "       DuracionMinutos TotalIndicaciones        TipoTarea  NivelAsistenciaIA  \\\n",
       "0                31.20                11          Estudio                2.0   \n",
       "1                13.09                 6          Estudio                3.0   \n",
       "2                19.22                 5     Programación                3.0   \n",
       "3                 3.70                 1     Programación                3.0   \n",
       "4                28.12                 9        Redacción                3.0   \n",
       "...                ...               ...              ...                ...   \n",
       "10719            11.62                 3        Redacción                3.0   \n",
       "10729            56.13                24    Investigación                2.0   \n",
       "10758            16.16                 4          Estudio                4.0   \n",
       "10770            20.55                 5        Redacción                4.0   \n",
       "10786             5.85                 1  Lluvia de Ideas                5.0   \n",
       "\n",
       "         ResultadoFinal UsadoNuevamente  CalificacionSatisfaccion  \n",
       "0      Tarea Completada            True                       1.0  \n",
       "1      Tarea Completada            True                       2.0  \n",
       "2      Tarea Completada            True                       3.3  \n",
       "3         Idea Rezagada            True                       3.5  \n",
       "4      Tarea Completada            True                       2.9  \n",
       "...                 ...             ...                       ...  \n",
       "10719     Idea Rezagada            True                       3.3  \n",
       "10729        Confundido           False                       1.8  \n",
       "10758  Tarea Completada            True                       1.9  \n",
       "10770  Tarea Completada            True                       5.0  \n",
       "10786     Idea Rezagada            True                       5.0  \n",
       "\n",
       "[8636 rows x 11 columns]"
      ]
     },
     "execution_count": 68,
     "metadata": {},
     "output_type": "execute_result"
    }
   ],
   "source": [
    "df2"
   ]
  },
  {
   "cell_type": "code",
   "execution_count": 69,
   "id": "2adb5697",
   "metadata": {},
   "outputs": [
    {
     "name": "stdout",
     "output_type": "stream",
     "text": [
      "<class 'pandas.core.frame.DataFrame'>\n",
      "Index: 8636 entries, 0 to 10786\n",
      "Data columns (total 11 columns):\n",
      " #   Column                    Non-Null Count  Dtype  \n",
      "---  ------                    --------------  -----  \n",
      " 0   ID_Sesion                 8636 non-null   object \n",
      " 1   NivelEstudiante           8636 non-null   object \n",
      " 2   Disciplina                8636 non-null   object \n",
      " 3   FechaSesion               8636 non-null   object \n",
      " 4   DuracionMinutos           8636 non-null   float64\n",
      " 5   TotalIndicaciones         8636 non-null   object \n",
      " 6   TipoTarea                 8636 non-null   object \n",
      " 7   NivelAsistenciaIA         8636 non-null   float64\n",
      " 8   ResultadoFinal            8636 non-null   object \n",
      " 9   UsadoNuevamente           8636 non-null   object \n",
      " 10  CalificacionSatisfaccion  8636 non-null   float64\n",
      "dtypes: float64(3), object(8)\n",
      "memory usage: 809.6+ KB\n"
     ]
    }
   ],
   "source": [
    "df2.info()"
   ]
  },
  {
   "cell_type": "markdown",
   "id": "458b78d4",
   "metadata": {},
   "source": [
    "# **Cambio del tipo de variables:**\n",
    "Algunas columnas no son del tipo que deben ser, hay que cambiar eso,"
   ]
  },
  {
   "cell_type": "code",
   "execution_count": 70,
   "id": "3a7012e5",
   "metadata": {},
   "outputs": [],
   "source": [
    "df2['TotalIndicaciones']=df2['TotalIndicaciones'].astype(float)"
   ]
  },
  {
   "cell_type": "code",
   "execution_count": 71,
   "id": "5ea53a3c",
   "metadata": {},
   "outputs": [],
   "source": [
    "df2['TotalIndicaciones']=df2['TotalIndicaciones'].astype(int)"
   ]
  },
  {
   "cell_type": "code",
   "execution_count": 72,
   "id": "47752772",
   "metadata": {},
   "outputs": [],
   "source": [
    "df2['NivelAsistenciaIA']=df2['NivelAsistenciaIA'].astype(int)"
   ]
  },
  {
   "cell_type": "code",
   "execution_count": 73,
   "id": "df9edd84",
   "metadata": {},
   "outputs": [],
   "source": [
    "df2['UsadoNuevamente']=df2['UsadoNuevamente'].astype(bool)"
   ]
  },
  {
   "cell_type": "code",
   "execution_count": 74,
   "id": "63ca4ab8",
   "metadata": {},
   "outputs": [
    {
     "name": "stdout",
     "output_type": "stream",
     "text": [
      "<class 'pandas.core.frame.DataFrame'>\n",
      "Index: 8636 entries, 0 to 10786\n",
      "Data columns (total 11 columns):\n",
      " #   Column                    Non-Null Count  Dtype  \n",
      "---  ------                    --------------  -----  \n",
      " 0   ID_Sesion                 8636 non-null   object \n",
      " 1   NivelEstudiante           8636 non-null   object \n",
      " 2   Disciplina                8636 non-null   object \n",
      " 3   FechaSesion               8636 non-null   object \n",
      " 4   DuracionMinutos           8636 non-null   float64\n",
      " 5   TotalIndicaciones         8636 non-null   int64  \n",
      " 6   TipoTarea                 8636 non-null   object \n",
      " 7   NivelAsistenciaIA         8636 non-null   int64  \n",
      " 8   ResultadoFinal            8636 non-null   object \n",
      " 9   UsadoNuevamente           8636 non-null   bool   \n",
      " 10  CalificacionSatisfaccion  8636 non-null   float64\n",
      "dtypes: bool(1), float64(2), int64(2), object(6)\n",
      "memory usage: 750.6+ KB\n"
     ]
    }
   ],
   "source": [
    "df2.info()"
   ]
  },
  {
   "cell_type": "code",
   "execution_count": 75,
   "id": "10432c77",
   "metadata": {},
   "outputs": [
    {
     "data": {
      "text/plain": [
       "(8636, 11)"
      ]
     },
     "execution_count": 75,
     "metadata": {},
     "output_type": "execute_result"
    }
   ],
   "source": [
    "df2.shape"
   ]
  },
  {
   "cell_type": "code",
   "execution_count": 76,
   "id": "b72a3f02",
   "metadata": {},
   "outputs": [
    {
     "data": {
      "text/plain": [
       "ID_Sesion                   0\n",
       "NivelEstudiante             0\n",
       "Disciplina                  0\n",
       "FechaSesion                 0\n",
       "DuracionMinutos             0\n",
       "TotalIndicaciones           0\n",
       "TipoTarea                   0\n",
       "NivelAsistenciaIA           0\n",
       "ResultadoFinal              0\n",
       "UsadoNuevamente             0\n",
       "CalificacionSatisfaccion    0\n",
       "dtype: int64"
      ]
     },
     "execution_count": 76,
     "metadata": {},
     "output_type": "execute_result"
    }
   ],
   "source": [
    "df2.isnull().sum()"
   ]
  },
  {
   "cell_type": "code",
   "execution_count": 77,
   "id": "01892997",
   "metadata": {},
   "outputs": [
    {
     "data": {
      "text/html": [
       "<div>\n",
       "<style scoped>\n",
       "    .dataframe tbody tr th:only-of-type {\n",
       "        vertical-align: middle;\n",
       "    }\n",
       "\n",
       "    .dataframe tbody tr th {\n",
       "        vertical-align: top;\n",
       "    }\n",
       "\n",
       "    .dataframe thead th {\n",
       "        text-align: right;\n",
       "    }\n",
       "</style>\n",
       "<table border=\"1\" class=\"dataframe\">\n",
       "  <thead>\n",
       "    <tr style=\"text-align: right;\">\n",
       "      <th></th>\n",
       "      <th>ID_Sesion</th>\n",
       "      <th>NivelEstudiante</th>\n",
       "      <th>Disciplina</th>\n",
       "      <th>FechaSesion</th>\n",
       "      <th>DuracionMinutos</th>\n",
       "      <th>TotalIndicaciones</th>\n",
       "      <th>TipoTarea</th>\n",
       "      <th>NivelAsistenciaIA</th>\n",
       "      <th>ResultadoFinal</th>\n",
       "      <th>UsadoNuevamente</th>\n",
       "      <th>CalificacionSatisfaccion</th>\n",
       "    </tr>\n",
       "  </thead>\n",
       "  <tbody>\n",
       "    <tr>\n",
       "      <th>0</th>\n",
       "      <td>SESSION00001</td>\n",
       "      <td>Universitario</td>\n",
       "      <td>Ciencias de la Computación</td>\n",
       "      <td>2024-11-03</td>\n",
       "      <td>31.20</td>\n",
       "      <td>11</td>\n",
       "      <td>Estudio</td>\n",
       "      <td>2</td>\n",
       "      <td>Tarea Completada</td>\n",
       "      <td>True</td>\n",
       "      <td>1.0</td>\n",
       "    </tr>\n",
       "    <tr>\n",
       "      <th>1</th>\n",
       "      <td>SESSION00002</td>\n",
       "      <td>Universitario</td>\n",
       "      <td>Negocios</td>\n",
       "      <td>2024-08-25</td>\n",
       "      <td>13.09</td>\n",
       "      <td>6</td>\n",
       "      <td>Estudio</td>\n",
       "      <td>3</td>\n",
       "      <td>Tarea Completada</td>\n",
       "      <td>True</td>\n",
       "      <td>2.0</td>\n",
       "    </tr>\n",
       "    <tr>\n",
       "      <th>2</th>\n",
       "      <td>SESSION00000</td>\n",
       "      <td>Universitario</td>\n",
       "      <td>Negocios</td>\n",
       "      <td>2025-01-12</td>\n",
       "      <td>19.22</td>\n",
       "      <td>5</td>\n",
       "      <td>Programación</td>\n",
       "      <td>3</td>\n",
       "      <td>Tarea Completada</td>\n",
       "      <td>True</td>\n",
       "      <td>3.3</td>\n",
       "    </tr>\n",
       "    <tr>\n",
       "      <th>3</th>\n",
       "      <td>SESSION00004</td>\n",
       "      <td>Universitario</td>\n",
       "      <td>Ciencias de la Computación</td>\n",
       "      <td>2025-05-06</td>\n",
       "      <td>3.70</td>\n",
       "      <td>1</td>\n",
       "      <td>Programación</td>\n",
       "      <td>3</td>\n",
       "      <td>Idea Rezagada</td>\n",
       "      <td>True</td>\n",
       "      <td>3.5</td>\n",
       "    </tr>\n",
       "    <tr>\n",
       "      <th>4</th>\n",
       "      <td>SESSION00005</td>\n",
       "      <td>Universitario</td>\n",
       "      <td>Psicología</td>\n",
       "      <td>2025-03-18</td>\n",
       "      <td>28.12</td>\n",
       "      <td>9</td>\n",
       "      <td>Redacción</td>\n",
       "      <td>3</td>\n",
       "      <td>Tarea Completada</td>\n",
       "      <td>True</td>\n",
       "      <td>2.9</td>\n",
       "    </tr>\n",
       "  </tbody>\n",
       "</table>\n",
       "</div>"
      ],
      "text/plain": [
       "      ID_Sesion NivelEstudiante                  Disciplina FechaSesion  \\\n",
       "0  SESSION00001   Universitario  Ciencias de la Computación  2024-11-03   \n",
       "1  SESSION00002   Universitario                    Negocios  2024-08-25   \n",
       "2  SESSION00000   Universitario                    Negocios  2025-01-12   \n",
       "3  SESSION00004   Universitario  Ciencias de la Computación  2025-05-06   \n",
       "4  SESSION00005   Universitario                  Psicología  2025-03-18   \n",
       "\n",
       "   DuracionMinutos  TotalIndicaciones     TipoTarea  NivelAsistenciaIA  \\\n",
       "0            31.20                 11       Estudio                  2   \n",
       "1            13.09                  6       Estudio                  3   \n",
       "2            19.22                  5  Programación                  3   \n",
       "3             3.70                  1  Programación                  3   \n",
       "4            28.12                  9     Redacción                  3   \n",
       "\n",
       "     ResultadoFinal  UsadoNuevamente  CalificacionSatisfaccion  \n",
       "0  Tarea Completada             True                       1.0  \n",
       "1  Tarea Completada             True                       2.0  \n",
       "2  Tarea Completada             True                       3.3  \n",
       "3     Idea Rezagada             True                       3.5  \n",
       "4  Tarea Completada             True                       2.9  "
      ]
     },
     "execution_count": 77,
     "metadata": {},
     "output_type": "execute_result"
    }
   ],
   "source": [
    "df2.head()"
   ]
  },
  {
   "cell_type": "code",
   "execution_count": 78,
   "id": "e44e8d41",
   "metadata": {},
   "outputs": [
    {
     "data": {
      "text/html": [
       "<div>\n",
       "<style scoped>\n",
       "    .dataframe tbody tr th:only-of-type {\n",
       "        vertical-align: middle;\n",
       "    }\n",
       "\n",
       "    .dataframe tbody tr th {\n",
       "        vertical-align: top;\n",
       "    }\n",
       "\n",
       "    .dataframe thead th {\n",
       "        text-align: right;\n",
       "    }\n",
       "</style>\n",
       "<table border=\"1\" class=\"dataframe\">\n",
       "  <thead>\n",
       "    <tr style=\"text-align: right;\">\n",
       "      <th></th>\n",
       "      <th>ID_Sesion</th>\n",
       "      <th>NivelEstudiante</th>\n",
       "      <th>Disciplina</th>\n",
       "      <th>FechaSesion</th>\n",
       "      <th>DuracionMinutos</th>\n",
       "      <th>TotalIndicaciones</th>\n",
       "      <th>TipoTarea</th>\n",
       "      <th>NivelAsistenciaIA</th>\n",
       "      <th>ResultadoFinal</th>\n",
       "      <th>UsadoNuevamente</th>\n",
       "      <th>CalificacionSatisfaccion</th>\n",
       "    </tr>\n",
       "  </thead>\n",
       "  <tbody>\n",
       "    <tr>\n",
       "      <th>10719</th>\n",
       "      <td>SESSION09607</td>\n",
       "      <td>Graduado</td>\n",
       "      <td>Matemáticas</td>\n",
       "      <td>2025-05-09</td>\n",
       "      <td>11.62</td>\n",
       "      <td>3</td>\n",
       "      <td>Redacción</td>\n",
       "      <td>3</td>\n",
       "      <td>Idea Rezagada</td>\n",
       "      <td>True</td>\n",
       "      <td>3.3</td>\n",
       "    </tr>\n",
       "    <tr>\n",
       "      <th>10729</th>\n",
       "      <td>SESSION07940</td>\n",
       "      <td>Universitario</td>\n",
       "      <td>Psicología</td>\n",
       "      <td>2025-02-09</td>\n",
       "      <td>56.13</td>\n",
       "      <td>24</td>\n",
       "      <td>Investigación</td>\n",
       "      <td>2</td>\n",
       "      <td>Confundido</td>\n",
       "      <td>True</td>\n",
       "      <td>1.8</td>\n",
       "    </tr>\n",
       "    <tr>\n",
       "      <th>10758</th>\n",
       "      <td>SESSION00102</td>\n",
       "      <td>Universitario</td>\n",
       "      <td>Ingeniería</td>\n",
       "      <td>2025-01-18</td>\n",
       "      <td>16.16</td>\n",
       "      <td>4</td>\n",
       "      <td>Estudio</td>\n",
       "      <td>4</td>\n",
       "      <td>Tarea Completada</td>\n",
       "      <td>True</td>\n",
       "      <td>1.9</td>\n",
       "    </tr>\n",
       "    <tr>\n",
       "      <th>10770</th>\n",
       "      <td>SESSION08149</td>\n",
       "      <td>Graduado</td>\n",
       "      <td>Ingeniería</td>\n",
       "      <td>2024-12-22</td>\n",
       "      <td>20.55</td>\n",
       "      <td>5</td>\n",
       "      <td>Redacción</td>\n",
       "      <td>4</td>\n",
       "      <td>Tarea Completada</td>\n",
       "      <td>True</td>\n",
       "      <td>5.0</td>\n",
       "    </tr>\n",
       "    <tr>\n",
       "      <th>10786</th>\n",
       "      <td>SESSION02496</td>\n",
       "      <td>Universitario</td>\n",
       "      <td>Matemáticas</td>\n",
       "      <td>2025-05-14</td>\n",
       "      <td>5.85</td>\n",
       "      <td>1</td>\n",
       "      <td>Lluvia de Ideas</td>\n",
       "      <td>5</td>\n",
       "      <td>Idea Rezagada</td>\n",
       "      <td>True</td>\n",
       "      <td>5.0</td>\n",
       "    </tr>\n",
       "  </tbody>\n",
       "</table>\n",
       "</div>"
      ],
      "text/plain": [
       "          ID_Sesion NivelEstudiante   Disciplina FechaSesion  DuracionMinutos  \\\n",
       "10719  SESSION09607        Graduado  Matemáticas  2025-05-09            11.62   \n",
       "10729  SESSION07940   Universitario   Psicología  2025-02-09            56.13   \n",
       "10758  SESSION00102   Universitario   Ingeniería  2025-01-18            16.16   \n",
       "10770  SESSION08149        Graduado   Ingeniería  2024-12-22            20.55   \n",
       "10786  SESSION02496   Universitario  Matemáticas  2025-05-14             5.85   \n",
       "\n",
       "       TotalIndicaciones        TipoTarea  NivelAsistenciaIA  \\\n",
       "10719                  3        Redacción                  3   \n",
       "10729                 24    Investigación                  2   \n",
       "10758                  4          Estudio                  4   \n",
       "10770                  5        Redacción                  4   \n",
       "10786                  1  Lluvia de Ideas                  5   \n",
       "\n",
       "         ResultadoFinal  UsadoNuevamente  CalificacionSatisfaccion  \n",
       "10719     Idea Rezagada             True                       3.3  \n",
       "10729        Confundido             True                       1.8  \n",
       "10758  Tarea Completada             True                       1.9  \n",
       "10770  Tarea Completada             True                       5.0  \n",
       "10786     Idea Rezagada             True                       5.0  "
      ]
     },
     "execution_count": 78,
     "metadata": {},
     "output_type": "execute_result"
    }
   ],
   "source": [
    "df2.tail()"
   ]
  },
  {
   "cell_type": "markdown",
   "id": "35cbde4e",
   "metadata": {},
   "source": [
    "# **Resultado Final:**"
   ]
  },
  {
   "cell_type": "code",
   "execution_count": 79,
   "id": "fe01c938",
   "metadata": {},
   "outputs": [
    {
     "data": {
      "text/html": [
       "<div>\n",
       "<style scoped>\n",
       "    .dataframe tbody tr th:only-of-type {\n",
       "        vertical-align: middle;\n",
       "    }\n",
       "\n",
       "    .dataframe tbody tr th {\n",
       "        vertical-align: top;\n",
       "    }\n",
       "\n",
       "    .dataframe thead th {\n",
       "        text-align: right;\n",
       "    }\n",
       "</style>\n",
       "<table border=\"1\" class=\"dataframe\">\n",
       "  <thead>\n",
       "    <tr style=\"text-align: right;\">\n",
       "      <th></th>\n",
       "      <th>ID_Sesion</th>\n",
       "      <th>NivelEstudiante</th>\n",
       "      <th>Disciplina</th>\n",
       "      <th>FechaSesion</th>\n",
       "      <th>DuracionMinutos</th>\n",
       "      <th>TotalIndicaciones</th>\n",
       "      <th>TipoTarea</th>\n",
       "      <th>NivelAsistenciaIA</th>\n",
       "      <th>ResultadoFinal</th>\n",
       "      <th>UsadoNuevamente</th>\n",
       "      <th>CalificacionSatisfaccion</th>\n",
       "    </tr>\n",
       "  </thead>\n",
       "  <tbody>\n",
       "    <tr>\n",
       "      <th>0</th>\n",
       "      <td>SESSION00001</td>\n",
       "      <td>Universitario</td>\n",
       "      <td>Ciencias de la Computación</td>\n",
       "      <td>2024-11-03</td>\n",
       "      <td>31.20</td>\n",
       "      <td>11</td>\n",
       "      <td>Estudio</td>\n",
       "      <td>2</td>\n",
       "      <td>Tarea Completada</td>\n",
       "      <td>True</td>\n",
       "      <td>1.0</td>\n",
       "    </tr>\n",
       "    <tr>\n",
       "      <th>1</th>\n",
       "      <td>SESSION00002</td>\n",
       "      <td>Universitario</td>\n",
       "      <td>Negocios</td>\n",
       "      <td>2024-08-25</td>\n",
       "      <td>13.09</td>\n",
       "      <td>6</td>\n",
       "      <td>Estudio</td>\n",
       "      <td>3</td>\n",
       "      <td>Tarea Completada</td>\n",
       "      <td>True</td>\n",
       "      <td>2.0</td>\n",
       "    </tr>\n",
       "    <tr>\n",
       "      <th>2</th>\n",
       "      <td>SESSION00000</td>\n",
       "      <td>Universitario</td>\n",
       "      <td>Negocios</td>\n",
       "      <td>2025-01-12</td>\n",
       "      <td>19.22</td>\n",
       "      <td>5</td>\n",
       "      <td>Programación</td>\n",
       "      <td>3</td>\n",
       "      <td>Tarea Completada</td>\n",
       "      <td>True</td>\n",
       "      <td>3.3</td>\n",
       "    </tr>\n",
       "    <tr>\n",
       "      <th>3</th>\n",
       "      <td>SESSION00004</td>\n",
       "      <td>Universitario</td>\n",
       "      <td>Ciencias de la Computación</td>\n",
       "      <td>2025-05-06</td>\n",
       "      <td>3.70</td>\n",
       "      <td>1</td>\n",
       "      <td>Programación</td>\n",
       "      <td>3</td>\n",
       "      <td>Idea Rezagada</td>\n",
       "      <td>True</td>\n",
       "      <td>3.5</td>\n",
       "    </tr>\n",
       "    <tr>\n",
       "      <th>4</th>\n",
       "      <td>SESSION00005</td>\n",
       "      <td>Universitario</td>\n",
       "      <td>Psicología</td>\n",
       "      <td>2025-03-18</td>\n",
       "      <td>28.12</td>\n",
       "      <td>9</td>\n",
       "      <td>Redacción</td>\n",
       "      <td>3</td>\n",
       "      <td>Tarea Completada</td>\n",
       "      <td>True</td>\n",
       "      <td>2.9</td>\n",
       "    </tr>\n",
       "    <tr>\n",
       "      <th>...</th>\n",
       "      <td>...</td>\n",
       "      <td>...</td>\n",
       "      <td>...</td>\n",
       "      <td>...</td>\n",
       "      <td>...</td>\n",
       "      <td>...</td>\n",
       "      <td>...</td>\n",
       "      <td>...</td>\n",
       "      <td>...</td>\n",
       "      <td>...</td>\n",
       "      <td>...</td>\n",
       "    </tr>\n",
       "    <tr>\n",
       "      <th>10719</th>\n",
       "      <td>SESSION09607</td>\n",
       "      <td>Graduado</td>\n",
       "      <td>Matemáticas</td>\n",
       "      <td>2025-05-09</td>\n",
       "      <td>11.62</td>\n",
       "      <td>3</td>\n",
       "      <td>Redacción</td>\n",
       "      <td>3</td>\n",
       "      <td>Idea Rezagada</td>\n",
       "      <td>True</td>\n",
       "      <td>3.3</td>\n",
       "    </tr>\n",
       "    <tr>\n",
       "      <th>10729</th>\n",
       "      <td>SESSION07940</td>\n",
       "      <td>Universitario</td>\n",
       "      <td>Psicología</td>\n",
       "      <td>2025-02-09</td>\n",
       "      <td>56.13</td>\n",
       "      <td>24</td>\n",
       "      <td>Investigación</td>\n",
       "      <td>2</td>\n",
       "      <td>Confundido</td>\n",
       "      <td>True</td>\n",
       "      <td>1.8</td>\n",
       "    </tr>\n",
       "    <tr>\n",
       "      <th>10758</th>\n",
       "      <td>SESSION00102</td>\n",
       "      <td>Universitario</td>\n",
       "      <td>Ingeniería</td>\n",
       "      <td>2025-01-18</td>\n",
       "      <td>16.16</td>\n",
       "      <td>4</td>\n",
       "      <td>Estudio</td>\n",
       "      <td>4</td>\n",
       "      <td>Tarea Completada</td>\n",
       "      <td>True</td>\n",
       "      <td>1.9</td>\n",
       "    </tr>\n",
       "    <tr>\n",
       "      <th>10770</th>\n",
       "      <td>SESSION08149</td>\n",
       "      <td>Graduado</td>\n",
       "      <td>Ingeniería</td>\n",
       "      <td>2024-12-22</td>\n",
       "      <td>20.55</td>\n",
       "      <td>5</td>\n",
       "      <td>Redacción</td>\n",
       "      <td>4</td>\n",
       "      <td>Tarea Completada</td>\n",
       "      <td>True</td>\n",
       "      <td>5.0</td>\n",
       "    </tr>\n",
       "    <tr>\n",
       "      <th>10786</th>\n",
       "      <td>SESSION02496</td>\n",
       "      <td>Universitario</td>\n",
       "      <td>Matemáticas</td>\n",
       "      <td>2025-05-14</td>\n",
       "      <td>5.85</td>\n",
       "      <td>1</td>\n",
       "      <td>Lluvia de Ideas</td>\n",
       "      <td>5</td>\n",
       "      <td>Idea Rezagada</td>\n",
       "      <td>True</td>\n",
       "      <td>5.0</td>\n",
       "    </tr>\n",
       "  </tbody>\n",
       "</table>\n",
       "<p>8636 rows × 11 columns</p>\n",
       "</div>"
      ],
      "text/plain": [
       "          ID_Sesion NivelEstudiante                  Disciplina FechaSesion  \\\n",
       "0      SESSION00001   Universitario  Ciencias de la Computación  2024-11-03   \n",
       "1      SESSION00002   Universitario                    Negocios  2024-08-25   \n",
       "2      SESSION00000   Universitario                    Negocios  2025-01-12   \n",
       "3      SESSION00004   Universitario  Ciencias de la Computación  2025-05-06   \n",
       "4      SESSION00005   Universitario                  Psicología  2025-03-18   \n",
       "...             ...             ...                         ...         ...   \n",
       "10719  SESSION09607        Graduado                 Matemáticas  2025-05-09   \n",
       "10729  SESSION07940   Universitario                  Psicología  2025-02-09   \n",
       "10758  SESSION00102   Universitario                  Ingeniería  2025-01-18   \n",
       "10770  SESSION08149        Graduado                  Ingeniería  2024-12-22   \n",
       "10786  SESSION02496   Universitario                 Matemáticas  2025-05-14   \n",
       "\n",
       "       DuracionMinutos  TotalIndicaciones        TipoTarea  NivelAsistenciaIA  \\\n",
       "0                31.20                 11          Estudio                  2   \n",
       "1                13.09                  6          Estudio                  3   \n",
       "2                19.22                  5     Programación                  3   \n",
       "3                 3.70                  1     Programación                  3   \n",
       "4                28.12                  9        Redacción                  3   \n",
       "...                ...                ...              ...                ...   \n",
       "10719            11.62                  3        Redacción                  3   \n",
       "10729            56.13                 24    Investigación                  2   \n",
       "10758            16.16                  4          Estudio                  4   \n",
       "10770            20.55                  5        Redacción                  4   \n",
       "10786             5.85                  1  Lluvia de Ideas                  5   \n",
       "\n",
       "         ResultadoFinal  UsadoNuevamente  CalificacionSatisfaccion  \n",
       "0      Tarea Completada             True                       1.0  \n",
       "1      Tarea Completada             True                       2.0  \n",
       "2      Tarea Completada             True                       3.3  \n",
       "3         Idea Rezagada             True                       3.5  \n",
       "4      Tarea Completada             True                       2.9  \n",
       "...                 ...              ...                       ...  \n",
       "10719     Idea Rezagada             True                       3.3  \n",
       "10729        Confundido             True                       1.8  \n",
       "10758  Tarea Completada             True                       1.9  \n",
       "10770  Tarea Completada             True                       5.0  \n",
       "10786     Idea Rezagada             True                       5.0  \n",
       "\n",
       "[8636 rows x 11 columns]"
      ]
     },
     "execution_count": 79,
     "metadata": {},
     "output_type": "execute_result"
    }
   ],
   "source": [
    "df2"
   ]
  },
  {
   "cell_type": "code",
   "execution_count": 85,
   "id": "5242c6f2",
   "metadata": {},
   "outputs": [
    {
     "data": {
      "text/plain": [
       "ID_Sesion                   0\n",
       "NivelEstudiante             0\n",
       "Disciplina                  0\n",
       "FechaSesion                 0\n",
       "DuracionMinutos             0\n",
       "TotalIndicaciones           0\n",
       "TipoTarea                   0\n",
       "NivelAsistenciaIA           0\n",
       "ResultadoFinal              0\n",
       "UsadoNuevamente             0\n",
       "CalificacionSatisfaccion    0\n",
       "dtype: int64"
      ]
     },
     "execution_count": 85,
     "metadata": {},
     "output_type": "execute_result"
    }
   ],
   "source": [
    "df2.isnull().sum()"
   ]
  },
  {
   "cell_type": "code",
   "execution_count": 86,
   "id": "62bc9301",
   "metadata": {},
   "outputs": [
    {
     "data": {
      "text/plain": [
       "(8636, 11)"
      ]
     },
     "execution_count": 86,
     "metadata": {},
     "output_type": "execute_result"
    }
   ],
   "source": [
    "df2.shape"
   ]
  },
  {
   "cell_type": "code",
   "execution_count": 87,
   "id": "42321d58",
   "metadata": {},
   "outputs": [
    {
     "name": "stdout",
     "output_type": "stream",
     "text": [
      "<class 'pandas.core.frame.DataFrame'>\n",
      "Index: 8636 entries, 0 to 10786\n",
      "Data columns (total 11 columns):\n",
      " #   Column                    Non-Null Count  Dtype  \n",
      "---  ------                    --------------  -----  \n",
      " 0   ID_Sesion                 8636 non-null   object \n",
      " 1   NivelEstudiante           8636 non-null   object \n",
      " 2   Disciplina                8636 non-null   object \n",
      " 3   FechaSesion               8636 non-null   object \n",
      " 4   DuracionMinutos           8636 non-null   float64\n",
      " 5   TotalIndicaciones         8636 non-null   int64  \n",
      " 6   TipoTarea                 8636 non-null   object \n",
      " 7   NivelAsistenciaIA         8636 non-null   int64  \n",
      " 8   ResultadoFinal            8636 non-null   object \n",
      " 9   UsadoNuevamente           8636 non-null   bool   \n",
      " 10  CalificacionSatisfaccion  8636 non-null   float64\n",
      "dtypes: bool(1), float64(2), int64(2), object(6)\n",
      "memory usage: 750.6+ KB\n"
     ]
    }
   ],
   "source": [
    "df2.info()"
   ]
  },
  {
   "cell_type": "code",
   "execution_count": 88,
   "id": "1682b492",
   "metadata": {},
   "outputs": [
    {
     "data": {
      "text/plain": [
       "np.int64(0)"
      ]
     },
     "execution_count": 88,
     "metadata": {},
     "output_type": "execute_result"
    }
   ],
   "source": [
    "df2.duplicated().sum()"
   ]
  },
  {
   "cell_type": "markdown",
   "id": "b2023975",
   "metadata": {},
   "source": [
    "Se envian los datos a un CSV limpio, listos para ser usados para otros propositos."
   ]
  },
  {
   "cell_type": "code",
   "execution_count": 90,
   "id": "c47f73b5",
   "metadata": {},
   "outputs": [],
   "source": [
    "df2.to_csv(\"df_limpioV2.csv\", index=False)"
   ]
  }
 ],
 "metadata": {
  "kernelspec": {
   "display_name": "Python 3",
   "language": "python",
   "name": "python3"
  },
  "language_info": {
   "codemirror_mode": {
    "name": "ipython",
    "version": 3
   },
   "file_extension": ".py",
   "mimetype": "text/x-python",
   "name": "python",
   "nbconvert_exporter": "python",
   "pygments_lexer": "ipython3",
   "version": "3.11.9"
  }
 },
 "nbformat": 4,
 "nbformat_minor": 5
}
